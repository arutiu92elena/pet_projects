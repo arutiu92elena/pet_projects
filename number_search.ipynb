{
 "cells": [
  {
   "cell_type": "markdown",
   "id": "2a636fa6",
   "metadata": {},
   "source": [
    "## Анализ приложения для определения номера телефона"
   ]
  },
  {
   "cell_type": "markdown",
   "id": "fbe1893b",
   "metadata": {},
   "source": [
    "**Цель:** Выявить, является ли первая когорта более активной чем вторая (первая когорта - установили приложение и включили опцию \"определитель номера\", вторая когорта - установили приложение и не включили опцию \"определитель номера\"). Определить количество пользователей, lifetime которых составляет 180 дней."
   ]
  },
  {
   "cell_type": "markdown",
   "id": "773f9772",
   "metadata": {},
   "source": [
    "От заказчика было предоставлено три датафрейма:\n",
    "1. `events.csv` имеет два столбца: **id** - уникальный номер пользователя, **event_day** - дата посищения приложения.\n",
    "2. `on_res.csv` данные о пользователях, которые включили опцию \"определитель номера\"\n",
    "3. `off_res.csv` данные о пользователях, которые НЕ включили опцию \"определитель номера\"\n",
    "\n",
    "В последних двух датафреймах одинаковые столбцы:\n",
    "- `id` идентификатор событий\n",
    "-  `event_date` количество дней от \"компьютерного времени\"\n",
    "- `sessions` количество сессий\n",
    "- `searches` количество поисков\n",
    "- `clicks` количество кликов\n",
    "- `voice_sessions` голосовые поиски\n",
    "\n",
    "В каждой строке находится суммарное значение за месяц."
   ]
  },
  {
   "cell_type": "markdown",
   "id": "1014a481",
   "metadata": {},
   "source": [
    "### Общая информация и предобработка"
   ]
  },
  {
   "cell_type": "code",
   "execution_count": 1,
   "id": "ae689900",
   "metadata": {},
   "outputs": [],
   "source": [
    "#импортируем необходимые библиотеки\n",
    "\n",
    "import pandas as pd\n",
    "import matplotlib.pyplot as plt\n",
    "import scipy.stats as stats"
   ]
  },
  {
   "cell_type": "code",
   "execution_count": 2,
   "id": "128b0c86",
   "metadata": {},
   "outputs": [],
   "source": [
    "#загружаем датафреймы и сохраняем их в переменные\n",
    "\n",
    "events = pd.read_csv('events.csv')\n",
    "off = pd.read_csv('off_res.csv')\n",
    "on = pd.read_csv('on_res.csv')"
   ]
  },
  {
   "cell_type": "code",
   "execution_count": 3,
   "id": "9d8ed8e3",
   "metadata": {},
   "outputs": [],
   "source": [
    "#создадим функцию для ознакомления с датафреймом\n",
    "\n",
    "def pre_processing(data):\n",
    "    \n",
    "    #выведем первые пять строк фрейма\n",
    "    head_info = display(data.head())\n",
    "    print('-'*50)\n",
    "    \n",
    "    #выведем общую информацию о фрейме\n",
    "    inform = data.info()\n",
    "    print('-'*50)\n",
    "    \n",
    "    #проверим наличие явных дубликатов\n",
    "    dub_count = data.duplicated().sum()\n",
    "    print('Количество дубликатов равно', dub_count)"
   ]
  },
  {
   "cell_type": "code",
   "execution_count": 4,
   "id": "79a6c43e",
   "metadata": {},
   "outputs": [
    {
     "data": {
      "text/html": [
       "<div>\n",
       "<style scoped>\n",
       "    .dataframe tbody tr th:only-of-type {\n",
       "        vertical-align: middle;\n",
       "    }\n",
       "\n",
       "    .dataframe tbody tr th {\n",
       "        vertical-align: top;\n",
       "    }\n",
       "\n",
       "    .dataframe thead th {\n",
       "        text-align: right;\n",
       "    }\n",
       "</style>\n",
       "<table border=\"1\" class=\"dataframe\">\n",
       "  <thead>\n",
       "    <tr style=\"text-align: right;\">\n",
       "      <th></th>\n",
       "      <th>id</th>\n",
       "      <th>event_date</th>\n",
       "    </tr>\n",
       "  </thead>\n",
       "  <tbody>\n",
       "    <tr>\n",
       "      <th>0</th>\n",
       "      <td>0</td>\n",
       "      <td>2020-02-18</td>\n",
       "    </tr>\n",
       "    <tr>\n",
       "      <th>1</th>\n",
       "      <td>0</td>\n",
       "      <td>2020-02-25</td>\n",
       "    </tr>\n",
       "    <tr>\n",
       "      <th>2</th>\n",
       "      <td>0</td>\n",
       "      <td>2020-03-03</td>\n",
       "    </tr>\n",
       "    <tr>\n",
       "      <th>3</th>\n",
       "      <td>0</td>\n",
       "      <td>2020-03-10</td>\n",
       "    </tr>\n",
       "    <tr>\n",
       "      <th>4</th>\n",
       "      <td>0</td>\n",
       "      <td>2020-03-17</td>\n",
       "    </tr>\n",
       "  </tbody>\n",
       "</table>\n",
       "</div>"
      ],
      "text/plain": [
       "   id  event_date\n",
       "0   0  2020-02-18\n",
       "1   0  2020-02-25\n",
       "2   0  2020-03-03\n",
       "3   0  2020-03-10\n",
       "4   0  2020-03-17"
      ]
     },
     "metadata": {},
     "output_type": "display_data"
    },
    {
     "name": "stdout",
     "output_type": "stream",
     "text": [
      "--------------------------------------------------\n",
      "<class 'pandas.core.frame.DataFrame'>\n",
      "RangeIndex: 18287 entries, 0 to 18286\n",
      "Data columns (total 2 columns):\n",
      " #   Column      Non-Null Count  Dtype \n",
      "---  ------      --------------  ----- \n",
      " 0   id          18287 non-null  int64 \n",
      " 1   event_date  18287 non-null  object\n",
      "dtypes: int64(1), object(1)\n",
      "memory usage: 285.9+ KB\n",
      "--------------------------------------------------\n",
      "Количество дубликатов равно 0\n"
     ]
    }
   ],
   "source": [
    "pre_processing(events)"
   ]
  },
  {
   "cell_type": "code",
   "execution_count": 5,
   "id": "bc222677",
   "metadata": {},
   "outputs": [
    {
     "data": {
      "text/html": [
       "<div>\n",
       "<style scoped>\n",
       "    .dataframe tbody tr th:only-of-type {\n",
       "        vertical-align: middle;\n",
       "    }\n",
       "\n",
       "    .dataframe tbody tr th {\n",
       "        vertical-align: top;\n",
       "    }\n",
       "\n",
       "    .dataframe thead th {\n",
       "        text-align: right;\n",
       "    }\n",
       "</style>\n",
       "<table border=\"1\" class=\"dataframe\">\n",
       "  <thead>\n",
       "    <tr style=\"text-align: right;\">\n",
       "      <th></th>\n",
       "      <th>id</th>\n",
       "      <th>event_date</th>\n",
       "      <th>sessions</th>\n",
       "      <th>searches</th>\n",
       "      <th>clicks</th>\n",
       "      <th>voice_sessions</th>\n",
       "    </tr>\n",
       "  </thead>\n",
       "  <tbody>\n",
       "    <tr>\n",
       "      <th>0</th>\n",
       "      <td>000bbd081e131998bf9466de5189ef96</td>\n",
       "      <td>18383</td>\n",
       "      <td>0.0</td>\n",
       "      <td>0.0</td>\n",
       "      <td>0.0</td>\n",
       "      <td>0.0</td>\n",
       "    </tr>\n",
       "    <tr>\n",
       "      <th>1</th>\n",
       "      <td>0012fe8add1377390b64ff7140333d7e</td>\n",
       "      <td>18383</td>\n",
       "      <td>73.0</td>\n",
       "      <td>64.0</td>\n",
       "      <td>1.0</td>\n",
       "      <td>0.0</td>\n",
       "    </tr>\n",
       "    <tr>\n",
       "      <th>2</th>\n",
       "      <td>002b8b25a1042db3681f74bf4bde8752</td>\n",
       "      <td>18383</td>\n",
       "      <td>3.0</td>\n",
       "      <td>2.0</td>\n",
       "      <td>0.0</td>\n",
       "      <td>1.0</td>\n",
       "    </tr>\n",
       "    <tr>\n",
       "      <th>3</th>\n",
       "      <td>00807e318f397b8a42649976ec8ac703</td>\n",
       "      <td>18383</td>\n",
       "      <td>0.0</td>\n",
       "      <td>0.0</td>\n",
       "      <td>0.0</td>\n",
       "      <td>0.0</td>\n",
       "    </tr>\n",
       "    <tr>\n",
       "      <th>4</th>\n",
       "      <td>0094d0c5d1b9fe3e9441d7340faaa6da</td>\n",
       "      <td>18383</td>\n",
       "      <td>1.0</td>\n",
       "      <td>0.0</td>\n",
       "      <td>0.0</td>\n",
       "      <td>0.0</td>\n",
       "    </tr>\n",
       "  </tbody>\n",
       "</table>\n",
       "</div>"
      ],
      "text/plain": [
       "                                 id  event_date  sessions  searches  clicks  \\\n",
       "0  000bbd081e131998bf9466de5189ef96       18383       0.0       0.0     0.0   \n",
       "1  0012fe8add1377390b64ff7140333d7e       18383      73.0      64.0     1.0   \n",
       "2  002b8b25a1042db3681f74bf4bde8752       18383       3.0       2.0     0.0   \n",
       "3  00807e318f397b8a42649976ec8ac703       18383       0.0       0.0     0.0   \n",
       "4  0094d0c5d1b9fe3e9441d7340faaa6da       18383       1.0       0.0     0.0   \n",
       "\n",
       "   voice_sessions  \n",
       "0             0.0  \n",
       "1             0.0  \n",
       "2             1.0  \n",
       "3             0.0  \n",
       "4             0.0  "
      ]
     },
     "metadata": {},
     "output_type": "display_data"
    },
    {
     "name": "stdout",
     "output_type": "stream",
     "text": [
      "--------------------------------------------------\n",
      "<class 'pandas.core.frame.DataFrame'>\n",
      "RangeIndex: 47009 entries, 0 to 47008\n",
      "Data columns (total 6 columns):\n",
      " #   Column          Non-Null Count  Dtype  \n",
      "---  ------          --------------  -----  \n",
      " 0   id              47009 non-null  object \n",
      " 1   event_date      47009 non-null  int64  \n",
      " 2   sessions        47009 non-null  float64\n",
      " 3   searches        47009 non-null  float64\n",
      " 4   clicks          47009 non-null  float64\n",
      " 5   voice_sessions  47009 non-null  float64\n",
      "dtypes: float64(4), int64(1), object(1)\n",
      "memory usage: 2.2+ MB\n",
      "--------------------------------------------------\n",
      "Количество дубликатов равно 0\n"
     ]
    }
   ],
   "source": [
    "pre_processing(off)"
   ]
  },
  {
   "cell_type": "code",
   "execution_count": 6,
   "id": "6aafe68d",
   "metadata": {},
   "outputs": [
    {
     "data": {
      "text/html": [
       "<div>\n",
       "<style scoped>\n",
       "    .dataframe tbody tr th:only-of-type {\n",
       "        vertical-align: middle;\n",
       "    }\n",
       "\n",
       "    .dataframe tbody tr th {\n",
       "        vertical-align: top;\n",
       "    }\n",
       "\n",
       "    .dataframe thead th {\n",
       "        text-align: right;\n",
       "    }\n",
       "</style>\n",
       "<table border=\"1\" class=\"dataframe\">\n",
       "  <thead>\n",
       "    <tr style=\"text-align: right;\">\n",
       "      <th></th>\n",
       "      <th>id</th>\n",
       "      <th>event_date</th>\n",
       "      <th>sessions</th>\n",
       "      <th>searches</th>\n",
       "      <th>clicks</th>\n",
       "      <th>voice_sessions</th>\n",
       "    </tr>\n",
       "  </thead>\n",
       "  <tbody>\n",
       "    <tr>\n",
       "      <th>0</th>\n",
       "      <td>000bfce06ef595198664ab8585971fe7</td>\n",
       "      <td>18383</td>\n",
       "      <td>0.0</td>\n",
       "      <td>0.0</td>\n",
       "      <td>0.0</td>\n",
       "      <td>0.0</td>\n",
       "    </tr>\n",
       "    <tr>\n",
       "      <th>1</th>\n",
       "      <td>00121ef9b931b98aa984be5efd7ed320</td>\n",
       "      <td>18383</td>\n",
       "      <td>3.0</td>\n",
       "      <td>2.0</td>\n",
       "      <td>0.0</td>\n",
       "      <td>2.0</td>\n",
       "    </tr>\n",
       "    <tr>\n",
       "      <th>2</th>\n",
       "      <td>00127e3471b0aadabf64a35bdd0ff1c3</td>\n",
       "      <td>18383</td>\n",
       "      <td>9.0</td>\n",
       "      <td>6.0</td>\n",
       "      <td>0.0</td>\n",
       "      <td>3.0</td>\n",
       "    </tr>\n",
       "    <tr>\n",
       "      <th>3</th>\n",
       "      <td>0015d730345e160b3924f3b260b181f5</td>\n",
       "      <td>18383</td>\n",
       "      <td>8.0</td>\n",
       "      <td>2.0</td>\n",
       "      <td>1.0</td>\n",
       "      <td>0.0</td>\n",
       "    </tr>\n",
       "    <tr>\n",
       "      <th>4</th>\n",
       "      <td>00a34ccb73606e0b0f94aa6852f5f017</td>\n",
       "      <td>18383</td>\n",
       "      <td>4.0</td>\n",
       "      <td>0.0</td>\n",
       "      <td>1.0</td>\n",
       "      <td>1.0</td>\n",
       "    </tr>\n",
       "  </tbody>\n",
       "</table>\n",
       "</div>"
      ],
      "text/plain": [
       "                                 id  event_date  sessions  searches  clicks  \\\n",
       "0  000bfce06ef595198664ab8585971fe7       18383       0.0       0.0     0.0   \n",
       "1  00121ef9b931b98aa984be5efd7ed320       18383       3.0       2.0     0.0   \n",
       "2  00127e3471b0aadabf64a35bdd0ff1c3       18383       9.0       6.0     0.0   \n",
       "3  0015d730345e160b3924f3b260b181f5       18383       8.0       2.0     1.0   \n",
       "4  00a34ccb73606e0b0f94aa6852f5f017       18383       4.0       0.0     1.0   \n",
       "\n",
       "   voice_sessions  \n",
       "0             0.0  \n",
       "1             2.0  \n",
       "2             3.0  \n",
       "3             0.0  \n",
       "4             1.0  "
      ]
     },
     "metadata": {},
     "output_type": "display_data"
    },
    {
     "name": "stdout",
     "output_type": "stream",
     "text": [
      "--------------------------------------------------\n",
      "<class 'pandas.core.frame.DataFrame'>\n",
      "RangeIndex: 47009 entries, 0 to 47008\n",
      "Data columns (total 6 columns):\n",
      " #   Column          Non-Null Count  Dtype  \n",
      "---  ------          --------------  -----  \n",
      " 0   id              47009 non-null  object \n",
      " 1   event_date      47009 non-null  int64  \n",
      " 2   sessions        47009 non-null  float64\n",
      " 3   searches        47009 non-null  float64\n",
      " 4   clicks          47009 non-null  float64\n",
      " 5   voice_sessions  47009 non-null  float64\n",
      "dtypes: float64(4), int64(1), object(1)\n",
      "memory usage: 2.2+ MB\n",
      "--------------------------------------------------\n",
      "Количество дубликатов равно 0\n"
     ]
    }
   ],
   "source": [
    "pre_processing(on)"
   ]
  },
  {
   "cell_type": "markdown",
   "id": "c019da7b",
   "metadata": {},
   "source": [
    "_В данных нет пропусков. Размер первой когорты и второй совпадает._"
   ]
  },
  {
   "cell_type": "code",
   "execution_count": 7,
   "id": "5a7a6034",
   "metadata": {},
   "outputs": [],
   "source": [
    "#приведём столбец 'event_date' к типу данных datetime\n",
    "\n",
    "events['event_date'] = pd.to_datetime(events['event_date'])"
   ]
  },
  {
   "cell_type": "markdown",
   "id": "7dc630fc",
   "metadata": {},
   "source": [
    "### Исследовательский анализ"
   ]
  },
  {
   "cell_type": "code",
   "execution_count": 8,
   "id": "c6c2cf25",
   "metadata": {},
   "outputs": [
    {
     "data": {
      "text/plain": [
       "0.979918738964879"
      ]
     },
     "execution_count": 8,
     "metadata": {},
     "output_type": "execute_result"
    }
   ],
   "source": [
    "#найдём среднюю длительность по голосовым сессиям\n",
    "\n",
    "on['voice_sessions'].mean()"
   ]
  },
  {
   "cell_type": "code",
   "execution_count": 9,
   "id": "8dedfb97",
   "metadata": {},
   "outputs": [
    {
     "data": {
      "text/plain": [
       "0.9161862622051097"
      ]
     },
     "execution_count": 9,
     "metadata": {},
     "output_type": "execute_result"
    }
   ],
   "source": [
    "off['voice_sessions'].mean()"
   ]
  },
  {
   "cell_type": "code",
   "execution_count": 10,
   "id": "a3e322d6",
   "metadata": {},
   "outputs": [
    {
     "data": {
      "image/png": "[encoded data removed]",
      "text/plain": [
       "<Figure size 1400x600 with 2 Axes>"
      ]
     },
     "metadata": {},
     "output_type": "display_data"
    }
   ],
   "source": [
    "#проверим расспределение данных на нормальность\n",
    "\n",
    "plt.figure(figsize=(14, 6))\n",
    "plt.subplot(2,2,1)\n",
    "stats.probplot(on['voice_sessions'], dist='norm', plot=plt)\n",
    "plt.subplot(2,2,2)\n",
    "stats.probplot(off['voice_sessions'], dist='norm', plot=plt)\n",
    "plt.show()"
   ]
  },
  {
   "cell_type": "markdown",
   "id": "e44cc100",
   "metadata": {},
   "source": [
    "_Из графиков видно, что данные расспределены не совсем нормально._ "
   ]
  },
  {
   "cell_type": "code",
   "execution_count": 11,
   "id": "8426001e",
   "metadata": {},
   "outputs": [
    {
     "name": "stdout",
     "output_type": "stream",
     "text": [
      "sessions\n",
      "ttest\n",
      "27.36248377970176 vs 18.648811929630497\n",
      "Отвергаем нулевую гипотезу pvalue= 2.9147747745730807e-291\n",
      "\n",
      "MWtest\n",
      "Отвергаем нулевую гипотезу pvalue= 0.0\n",
      "\n",
      "searches\n",
      "ttest\n",
      "10.636622774362356 vs 9.447552596311345\n",
      "Отвергаем нулевую гипотезу pvalue= 3.4199028562551756e-19\n",
      "\n",
      "MWtest\n",
      "Отвергаем нулевую гипотезу pvalue= 6.502527032040216e-39\n",
      "\n",
      "clicks\n",
      "ttest\n",
      "7.525920568401795 vs 5.460507562381672\n",
      "Отвергаем нулевую гипотезу pvalue= 7.138629145106243e-57\n",
      "\n",
      "MWtest\n",
      "Отвергаем нулевую гипотезу pvalue= 0.0\n",
      "\n",
      "voice_sessions\n",
      "ttest\n",
      "0.979918738964879 vs 0.9161862622051097\n",
      "Отвергаем нулевую гипотезу pvalue= 0.000271663434926768\n",
      "\n",
      "MWtest\n",
      "Отвергаем нулевую гипотезу pvalue= 7.591985494166653e-40\n",
      "\n"
     ]
    }
   ],
   "source": [
    "#проведем ttest и тест манна-уитни и проверим гипотезы: нулевая - различий между группами нет, альтернативная - различия есть\n",
    "alpha = 0.05\n",
    "\n",
    "for column in ['sessions', 'searches', 'clicks', 'voice_sessions']:\n",
    "    print(column)\n",
    "    print('ttest')\n",
    "    print(on[column].mean(), 'vs', off[column].mean())\n",
    "    stat, pvalue = stats.ttest_ind(on[column], off[column])\n",
    "    print('Отвергаем нулевую гипотезу' if alpha > pvalue/2 else 'Принимаем нулевую гипотезу', 'pvalue=', pvalue)\n",
    "    print()\n",
    "\n",
    "    print('MWtest')\n",
    "    stat, pvalue = stats.mannwhitneyu(on[column], off[column], alternative='two-sided')\n",
    "    print('Отвергаем нулевую гипотезу' if alpha > pvalue/2 else 'Принимаем нулевую гипотезу', 'pvalue=', pvalue)\n",
    "    print()"
   ]
  },
  {
   "cell_type": "markdown",
   "id": "94f5ad2e",
   "metadata": {},
   "source": [
    "_Между двумя выборками есть различия, но значение p-value показывает, что в данных есть аномалии. По этому нам необходимо привести данные к нормальному распределению._"
   ]
  },
  {
   "cell_type": "code",
   "execution_count": 12,
   "id": "1f4403b2",
   "metadata": {},
   "outputs": [],
   "source": [
    "#исспользуем функцию hash и установим количество корзин 100\n",
    "\n",
    "on['backet'] = on['id'].apply(lambda x: hash(x) % 100)\n",
    "off['backet'] = off['id'].apply(lambda x: hash(x) % 100)"
   ]
  },
  {
   "cell_type": "code",
   "execution_count": 13,
   "id": "f8915892",
   "metadata": {},
   "outputs": [
    {
     "data": {
      "text/html": [
       "<div>\n",
       "<style scoped>\n",
       "    .dataframe tbody tr th:only-of-type {\n",
       "        vertical-align: middle;\n",
       "    }\n",
       "\n",
       "    .dataframe tbody tr th {\n",
       "        vertical-align: top;\n",
       "    }\n",
       "\n",
       "    .dataframe thead th {\n",
       "        text-align: right;\n",
       "    }\n",
       "</style>\n",
       "<table border=\"1\" class=\"dataframe\">\n",
       "  <thead>\n",
       "    <tr style=\"text-align: right;\">\n",
       "      <th></th>\n",
       "      <th>id</th>\n",
       "      <th>event_date</th>\n",
       "      <th>sessions</th>\n",
       "      <th>searches</th>\n",
       "      <th>clicks</th>\n",
       "      <th>voice_sessions</th>\n",
       "      <th>backet</th>\n",
       "    </tr>\n",
       "  </thead>\n",
       "  <tbody>\n",
       "    <tr>\n",
       "      <th>0</th>\n",
       "      <td>000bfce06ef595198664ab8585971fe7</td>\n",
       "      <td>18383</td>\n",
       "      <td>0.0</td>\n",
       "      <td>0.0</td>\n",
       "      <td>0.0</td>\n",
       "      <td>0.0</td>\n",
       "      <td>36</td>\n",
       "    </tr>\n",
       "    <tr>\n",
       "      <th>1</th>\n",
       "      <td>00121ef9b931b98aa984be5efd7ed320</td>\n",
       "      <td>18383</td>\n",
       "      <td>3.0</td>\n",
       "      <td>2.0</td>\n",
       "      <td>0.0</td>\n",
       "      <td>2.0</td>\n",
       "      <td>59</td>\n",
       "    </tr>\n",
       "    <tr>\n",
       "      <th>2</th>\n",
       "      <td>00127e3471b0aadabf64a35bdd0ff1c3</td>\n",
       "      <td>18383</td>\n",
       "      <td>9.0</td>\n",
       "      <td>6.0</td>\n",
       "      <td>0.0</td>\n",
       "      <td>3.0</td>\n",
       "      <td>44</td>\n",
       "    </tr>\n",
       "    <tr>\n",
       "      <th>3</th>\n",
       "      <td>0015d730345e160b3924f3b260b181f5</td>\n",
       "      <td>18383</td>\n",
       "      <td>8.0</td>\n",
       "      <td>2.0</td>\n",
       "      <td>1.0</td>\n",
       "      <td>0.0</td>\n",
       "      <td>28</td>\n",
       "    </tr>\n",
       "    <tr>\n",
       "      <th>4</th>\n",
       "      <td>00a34ccb73606e0b0f94aa6852f5f017</td>\n",
       "      <td>18383</td>\n",
       "      <td>4.0</td>\n",
       "      <td>0.0</td>\n",
       "      <td>1.0</td>\n",
       "      <td>1.0</td>\n",
       "      <td>63</td>\n",
       "    </tr>\n",
       "  </tbody>\n",
       "</table>\n",
       "</div>"
      ],
      "text/plain": [
       "                                 id  event_date  sessions  searches  clicks  \\\n",
       "0  000bfce06ef595198664ab8585971fe7       18383       0.0       0.0     0.0   \n",
       "1  00121ef9b931b98aa984be5efd7ed320       18383       3.0       2.0     0.0   \n",
       "2  00127e3471b0aadabf64a35bdd0ff1c3       18383       9.0       6.0     0.0   \n",
       "3  0015d730345e160b3924f3b260b181f5       18383       8.0       2.0     1.0   \n",
       "4  00a34ccb73606e0b0f94aa6852f5f017       18383       4.0       0.0     1.0   \n",
       "\n",
       "   voice_sessions  backet  \n",
       "0             0.0      36  \n",
       "1             2.0      59  \n",
       "2             3.0      44  \n",
       "3             0.0      28  \n",
       "4             1.0      63  "
      ]
     },
     "execution_count": 13,
     "metadata": {},
     "output_type": "execute_result"
    }
   ],
   "source": [
    "#проверим вывод \n",
    "on.head()"
   ]
  },
  {
   "cell_type": "code",
   "execution_count": 14,
   "id": "5a9ecbdc",
   "metadata": {},
   "outputs": [
    {
     "data": {
      "text/html": [
       "<div>\n",
       "<style scoped>\n",
       "    .dataframe tbody tr th:only-of-type {\n",
       "        vertical-align: middle;\n",
       "    }\n",
       "\n",
       "    .dataframe tbody tr th {\n",
       "        vertical-align: top;\n",
       "    }\n",
       "\n",
       "    .dataframe thead th {\n",
       "        text-align: right;\n",
       "    }\n",
       "</style>\n",
       "<table border=\"1\" class=\"dataframe\">\n",
       "  <thead>\n",
       "    <tr style=\"text-align: right;\">\n",
       "      <th></th>\n",
       "      <th>id</th>\n",
       "      <th>event_date</th>\n",
       "      <th>sessions</th>\n",
       "      <th>searches</th>\n",
       "      <th>clicks</th>\n",
       "      <th>voice_sessions</th>\n",
       "      <th>backet</th>\n",
       "    </tr>\n",
       "  </thead>\n",
       "  <tbody>\n",
       "    <tr>\n",
       "      <th>0</th>\n",
       "      <td>000bbd081e131998bf9466de5189ef96</td>\n",
       "      <td>18383</td>\n",
       "      <td>0.0</td>\n",
       "      <td>0.0</td>\n",
       "      <td>0.0</td>\n",
       "      <td>0.0</td>\n",
       "      <td>71</td>\n",
       "    </tr>\n",
       "    <tr>\n",
       "      <th>1</th>\n",
       "      <td>0012fe8add1377390b64ff7140333d7e</td>\n",
       "      <td>18383</td>\n",
       "      <td>73.0</td>\n",
       "      <td>64.0</td>\n",
       "      <td>1.0</td>\n",
       "      <td>0.0</td>\n",
       "      <td>35</td>\n",
       "    </tr>\n",
       "    <tr>\n",
       "      <th>2</th>\n",
       "      <td>002b8b25a1042db3681f74bf4bde8752</td>\n",
       "      <td>18383</td>\n",
       "      <td>3.0</td>\n",
       "      <td>2.0</td>\n",
       "      <td>0.0</td>\n",
       "      <td>1.0</td>\n",
       "      <td>25</td>\n",
       "    </tr>\n",
       "    <tr>\n",
       "      <th>3</th>\n",
       "      <td>00807e318f397b8a42649976ec8ac703</td>\n",
       "      <td>18383</td>\n",
       "      <td>0.0</td>\n",
       "      <td>0.0</td>\n",
       "      <td>0.0</td>\n",
       "      <td>0.0</td>\n",
       "      <td>51</td>\n",
       "    </tr>\n",
       "    <tr>\n",
       "      <th>4</th>\n",
       "      <td>0094d0c5d1b9fe3e9441d7340faaa6da</td>\n",
       "      <td>18383</td>\n",
       "      <td>1.0</td>\n",
       "      <td>0.0</td>\n",
       "      <td>0.0</td>\n",
       "      <td>0.0</td>\n",
       "      <td>69</td>\n",
       "    </tr>\n",
       "  </tbody>\n",
       "</table>\n",
       "</div>"
      ],
      "text/plain": [
       "                                 id  event_date  sessions  searches  clicks  \\\n",
       "0  000bbd081e131998bf9466de5189ef96       18383       0.0       0.0     0.0   \n",
       "1  0012fe8add1377390b64ff7140333d7e       18383      73.0      64.0     1.0   \n",
       "2  002b8b25a1042db3681f74bf4bde8752       18383       3.0       2.0     0.0   \n",
       "3  00807e318f397b8a42649976ec8ac703       18383       0.0       0.0     0.0   \n",
       "4  0094d0c5d1b9fe3e9441d7340faaa6da       18383       1.0       0.0     0.0   \n",
       "\n",
       "   voice_sessions  backet  \n",
       "0             0.0      71  \n",
       "1             0.0      35  \n",
       "2             1.0      25  \n",
       "3             0.0      51  \n",
       "4             0.0      69  "
      ]
     },
     "execution_count": 14,
     "metadata": {},
     "output_type": "execute_result"
    }
   ],
   "source": [
    "#проверим вывод \n",
    "off.head()"
   ]
  },
  {
   "cell_type": "code",
   "execution_count": 15,
   "id": "50fe9bd1",
   "metadata": {},
   "outputs": [
    {
     "data": {
      "text/plain": [
       "backet\n",
       "0     500\n",
       "1     461\n",
       "2     434\n",
       "3     455\n",
       "4     484\n",
       "     ... \n",
       "95    454\n",
       "96    430\n",
       "97    456\n",
       "98    478\n",
       "99    494\n",
       "Name: id, Length: 100, dtype: int64"
      ]
     },
     "execution_count": 15,
     "metadata": {},
     "output_type": "execute_result"
    }
   ],
   "source": [
    "#проверим какое количество уникальных пользователей входит в корзину\n",
    "on.groupby('backet')['id'].nunique()"
   ]
  },
  {
   "cell_type": "code",
   "execution_count": 16,
   "id": "4c18e2c3",
   "metadata": {},
   "outputs": [],
   "source": [
    "#сгруппируем данные по столбцу backet и построим график \n",
    "\n",
    "backet_on = on.groupby('backet')[['sessions', 'searches', 'clicks', 'voice_sessions']].sum()\n",
    "backet_off = off.groupby('backet')[['sessions', 'searches', 'clicks', 'voice_sessions']].sum()"
   ]
  },
  {
   "cell_type": "code",
   "execution_count": 17,
   "id": "274dc0dd",
   "metadata": {},
   "outputs": [
    {
     "data": {
      "image/png": "[encoded data removed]",
      "text/plain": [
       "<Figure size 1400x600 with 2 Axes>"
      ]
     },
     "metadata": {},
     "output_type": "display_data"
    }
   ],
   "source": [
    "plt.figure(figsize=(14, 6))\n",
    "plt.subplot(2,2,1)\n",
    "stats.probplot(backet_on['voice_sessions'], dist='norm', plot=plt)\n",
    "plt.subplot(2,2,2)\n",
    "stats.probplot(backet_off['voice_sessions'], dist='norm', plot=plt)\n",
    "plt.show()"
   ]
  },
  {
   "cell_type": "markdown",
   "id": "3600e012",
   "metadata": {},
   "source": [
    "_Теперь видно, что данные расспределены нормально._"
   ]
  },
  {
   "cell_type": "code",
   "execution_count": 18,
   "id": "cda34d43",
   "metadata": {},
   "outputs": [
    {
     "name": "stdout",
     "output_type": "stream",
     "text": [
      "sessions\n",
      "ttest\n",
      "12862.83 vs 8766.62\n",
      "Отвергаем нулевую гипотезу pvalue= 8.12437068273863e-74\n",
      "\n",
      "MWtest\n",
      "Отвергаем нулевую гипотезу pvalue= 6.017138123817569e-34\n",
      "\n",
      "searches\n",
      "ttest\n",
      "5000.17 vs 4441.2\n",
      "Отвергаем нулевую гипотезу pvalue= 2.6947056924627277e-12\n",
      "\n",
      "MWtest\n",
      "Отвергаем нулевую гипотезу pvalue= 7.903428735814525e-12\n",
      "\n",
      "clicks\n",
      "ttest\n",
      "3537.86 vs 2566.93\n",
      "Отвергаем нулевую гипотезу pvalue= 1.417006613720683e-36\n",
      "\n",
      "MWtest\n",
      "Отвергаем нулевую гипотезу pvalue= 9.313927154797892e-27\n",
      "\n",
      "voice_sessions\n",
      "ttest\n",
      "460.65 vs 430.69\n",
      "Отвергаем нулевую гипотезу pvalue= 0.0008525528770503301\n",
      "\n",
      "MWtest\n",
      "Отвергаем нулевую гипотезу pvalue= 0.0012905691385425337\n",
      "\n"
     ]
    }
   ],
   "source": [
    "alpha = 0.05\n",
    "\n",
    "for column in ['sessions', 'searches', 'clicks', 'voice_sessions']:\n",
    "    print(column)\n",
    "    print('ttest')\n",
    "    print(backet_on[column].mean(), 'vs', backet_off[column].mean())\n",
    "    stat, pvalue = stats.ttest_ind(backet_on[column], backet_off[column])\n",
    "    print('Отвергаем нулевую гипотезу' if alpha > pvalue/2 else 'Принимаем нулевую гипотезу', 'pvalue=', pvalue)\n",
    "    print()\n",
    "\n",
    "    print('MWtest')\n",
    "    stat, pvalue = stats.mannwhitneyu(backet_on[column], backet_off[column], alternative='two-sided')\n",
    "    print('Отвергаем нулевую гипотезу' if alpha > pvalue/2 else 'Принимаем нулевую гипотезу', 'pvalue=', pvalue)\n",
    "    print()"
   ]
  },
  {
   "cell_type": "markdown",
   "id": "73b21f7d",
   "metadata": {},
   "source": [
    "**_После приведения данных к нормальному расспределению, мы отвергаем нулевую гипотезу и делаем вывод, что между двумя когортами есть значимые различия. Первая когорта, которая пользуется опцией \"определитель номера\" - это более активные пользователи._**"
   ]
  },
  {
   "cell_type": "markdown",
   "id": "7c2a90c8",
   "metadata": {},
   "source": [
    "### Рассчет lifetime для пользователей приложения"
   ]
  },
  {
   "cell_type": "code",
   "execution_count": 19,
   "id": "06d1ae96",
   "metadata": {},
   "outputs": [],
   "source": [
    "#группируем таблицу для расчета lifetime\n",
    "\n",
    "grouped = events.groupby('id')['event_date'].agg(['min', 'max'])"
   ]
  },
  {
   "cell_type": "code",
   "execution_count": 20,
   "id": "164f6df4",
   "metadata": {},
   "outputs": [
    {
     "data": {
      "text/html": [
       "<div>\n",
       "<style scoped>\n",
       "    .dataframe tbody tr th:only-of-type {\n",
       "        vertical-align: middle;\n",
       "    }\n",
       "\n",
       "    .dataframe tbody tr th {\n",
       "        vertical-align: top;\n",
       "    }\n",
       "\n",
       "    .dataframe thead th {\n",
       "        text-align: right;\n",
       "    }\n",
       "</style>\n",
       "<table border=\"1\" class=\"dataframe\">\n",
       "  <thead>\n",
       "    <tr style=\"text-align: right;\">\n",
       "      <th></th>\n",
       "      <th>min</th>\n",
       "      <th>max</th>\n",
       "      <th>lifetime</th>\n",
       "    </tr>\n",
       "    <tr>\n",
       "      <th>id</th>\n",
       "      <th></th>\n",
       "      <th></th>\n",
       "      <th></th>\n",
       "    </tr>\n",
       "  </thead>\n",
       "  <tbody>\n",
       "    <tr>\n",
       "      <th>0</th>\n",
       "      <td>2020-02-18</td>\n",
       "      <td>2020-05-19</td>\n",
       "      <td>91</td>\n",
       "    </tr>\n",
       "    <tr>\n",
       "      <th>1</th>\n",
       "      <td>2020-03-31</td>\n",
       "      <td>2020-12-22</td>\n",
       "      <td>266</td>\n",
       "    </tr>\n",
       "    <tr>\n",
       "      <th>2</th>\n",
       "      <td>2020-01-12</td>\n",
       "      <td>2020-02-23</td>\n",
       "      <td>42</td>\n",
       "    </tr>\n",
       "    <tr>\n",
       "      <th>3</th>\n",
       "      <td>2020-05-23</td>\n",
       "      <td>2020-09-19</td>\n",
       "      <td>119</td>\n",
       "    </tr>\n",
       "    <tr>\n",
       "      <th>4</th>\n",
       "      <td>2020-01-10</td>\n",
       "      <td>2020-07-03</td>\n",
       "      <td>175</td>\n",
       "    </tr>\n",
       "    <tr>\n",
       "      <th>...</th>\n",
       "      <td>...</td>\n",
       "      <td>...</td>\n",
       "      <td>...</td>\n",
       "    </tr>\n",
       "    <tr>\n",
       "      <th>995</th>\n",
       "      <td>2020-10-17</td>\n",
       "      <td>2020-12-19</td>\n",
       "      <td>63</td>\n",
       "    </tr>\n",
       "    <tr>\n",
       "      <th>996</th>\n",
       "      <td>2020-11-07</td>\n",
       "      <td>2020-12-19</td>\n",
       "      <td>42</td>\n",
       "    </tr>\n",
       "    <tr>\n",
       "      <th>997</th>\n",
       "      <td>2020-11-02</td>\n",
       "      <td>2020-12-21</td>\n",
       "      <td>49</td>\n",
       "    </tr>\n",
       "    <tr>\n",
       "      <th>998</th>\n",
       "      <td>2020-10-22</td>\n",
       "      <td>2020-12-17</td>\n",
       "      <td>56</td>\n",
       "    </tr>\n",
       "    <tr>\n",
       "      <th>999</th>\n",
       "      <td>2020-08-19</td>\n",
       "      <td>2020-12-23</td>\n",
       "      <td>126</td>\n",
       "    </tr>\n",
       "  </tbody>\n",
       "</table>\n",
       "<p>1000 rows × 3 columns</p>\n",
       "</div>"
      ],
      "text/plain": [
       "           min        max  lifetime\n",
       "id                                 \n",
       "0   2020-02-18 2020-05-19        91\n",
       "1   2020-03-31 2020-12-22       266\n",
       "2   2020-01-12 2020-02-23        42\n",
       "3   2020-05-23 2020-09-19       119\n",
       "4   2020-01-10 2020-07-03       175\n",
       "..         ...        ...       ...\n",
       "995 2020-10-17 2020-12-19        63\n",
       "996 2020-11-07 2020-12-19        42\n",
       "997 2020-11-02 2020-12-21        49\n",
       "998 2020-10-22 2020-12-17        56\n",
       "999 2020-08-19 2020-12-23       126\n",
       "\n",
       "[1000 rows x 3 columns]"
      ]
     },
     "execution_count": 20,
     "metadata": {},
     "output_type": "execute_result"
    }
   ],
   "source": [
    "#добавляем столбец с lifetime\n",
    "\n",
    "grouped['lifetime'] = (grouped['max'] - grouped['min']).dt.days\n",
    "grouped"
   ]
  },
  {
   "cell_type": "code",
   "execution_count": 21,
   "id": "5b544042",
   "metadata": {},
   "outputs": [
    {
     "name": "stdout",
     "output_type": "stream",
     "text": [
      "Начальная дата данных: 2020-01-01 00:00:00, последняя дата данных 2020-12-26 00:00:00\n"
     ]
    }
   ],
   "source": [
    "#узнаем начальную и последнюю дату данных\n",
    "\n",
    "print(f'Начальная дата данных: {grouped[\"min\"].min()}, последняя дата данных {grouped[\"max\"].max()}')"
   ]
  },
  {
   "cell_type": "code",
   "execution_count": 22,
   "id": "7e8834c8",
   "metadata": {},
   "outputs": [
    {
     "name": "stdout",
     "output_type": "stream",
     "text": [
      "2020-01-01 00:00:00 / 2020-06-29 00:00:00 / 2020-12-26 00:00:00\n"
     ]
    }
   ],
   "source": [
    "#определяем дату lifetime = 180 дней\n",
    "\n",
    "start_date = pd.to_datetime('2020-01-01')\n",
    "half_date = start_date + pd.to_timedelta(180, unit='d')\n",
    "end_date = start_date + pd.to_timedelta(360, unit='d')\n",
    "\n",
    "print(start_date, '/' , half_date, '/', end_date)"
   ]
  },
  {
   "cell_type": "code",
   "execution_count": 23,
   "id": "a4c27586",
   "metadata": {},
   "outputs": [
    {
     "data": {
      "text/html": [
       "<div>\n",
       "<style scoped>\n",
       "    .dataframe tbody tr th:only-of-type {\n",
       "        vertical-align: middle;\n",
       "    }\n",
       "\n",
       "    .dataframe tbody tr th {\n",
       "        vertical-align: top;\n",
       "    }\n",
       "\n",
       "    .dataframe thead th {\n",
       "        text-align: right;\n",
       "    }\n",
       "</style>\n",
       "<table border=\"1\" class=\"dataframe\">\n",
       "  <thead>\n",
       "    <tr style=\"text-align: right;\">\n",
       "      <th></th>\n",
       "      <th>min</th>\n",
       "      <th>max</th>\n",
       "      <th>lifetime</th>\n",
       "      <th>is_lost</th>\n",
       "    </tr>\n",
       "    <tr>\n",
       "      <th>id</th>\n",
       "      <th></th>\n",
       "      <th></th>\n",
       "      <th></th>\n",
       "      <th></th>\n",
       "    </tr>\n",
       "  </thead>\n",
       "  <tbody>\n",
       "    <tr>\n",
       "      <th>0</th>\n",
       "      <td>2020-02-18</td>\n",
       "      <td>2020-05-19</td>\n",
       "      <td>91</td>\n",
       "      <td>True</td>\n",
       "    </tr>\n",
       "    <tr>\n",
       "      <th>1</th>\n",
       "      <td>2020-03-31</td>\n",
       "      <td>2020-12-22</td>\n",
       "      <td>266</td>\n",
       "      <td>False</td>\n",
       "    </tr>\n",
       "    <tr>\n",
       "      <th>2</th>\n",
       "      <td>2020-01-12</td>\n",
       "      <td>2020-02-23</td>\n",
       "      <td>42</td>\n",
       "      <td>True</td>\n",
       "    </tr>\n",
       "    <tr>\n",
       "      <th>3</th>\n",
       "      <td>2020-05-23</td>\n",
       "      <td>2020-09-19</td>\n",
       "      <td>119</td>\n",
       "      <td>True</td>\n",
       "    </tr>\n",
       "    <tr>\n",
       "      <th>4</th>\n",
       "      <td>2020-01-10</td>\n",
       "      <td>2020-07-03</td>\n",
       "      <td>175</td>\n",
       "      <td>True</td>\n",
       "    </tr>\n",
       "    <tr>\n",
       "      <th>...</th>\n",
       "      <td>...</td>\n",
       "      <td>...</td>\n",
       "      <td>...</td>\n",
       "      <td>...</td>\n",
       "    </tr>\n",
       "    <tr>\n",
       "      <th>995</th>\n",
       "      <td>2020-10-17</td>\n",
       "      <td>2020-12-19</td>\n",
       "      <td>63</td>\n",
       "      <td>False</td>\n",
       "    </tr>\n",
       "    <tr>\n",
       "      <th>996</th>\n",
       "      <td>2020-11-07</td>\n",
       "      <td>2020-12-19</td>\n",
       "      <td>42</td>\n",
       "      <td>False</td>\n",
       "    </tr>\n",
       "    <tr>\n",
       "      <th>997</th>\n",
       "      <td>2020-11-02</td>\n",
       "      <td>2020-12-21</td>\n",
       "      <td>49</td>\n",
       "      <td>False</td>\n",
       "    </tr>\n",
       "    <tr>\n",
       "      <th>998</th>\n",
       "      <td>2020-10-22</td>\n",
       "      <td>2020-12-17</td>\n",
       "      <td>56</td>\n",
       "      <td>True</td>\n",
       "    </tr>\n",
       "    <tr>\n",
       "      <th>999</th>\n",
       "      <td>2020-08-19</td>\n",
       "      <td>2020-12-23</td>\n",
       "      <td>126</td>\n",
       "      <td>False</td>\n",
       "    </tr>\n",
       "  </tbody>\n",
       "</table>\n",
       "<p>1000 rows × 4 columns</p>\n",
       "</div>"
      ],
      "text/plain": [
       "           min        max  lifetime  is_lost\n",
       "id                                          \n",
       "0   2020-02-18 2020-05-19        91     True\n",
       "1   2020-03-31 2020-12-22       266    False\n",
       "2   2020-01-12 2020-02-23        42     True\n",
       "3   2020-05-23 2020-09-19       119     True\n",
       "4   2020-01-10 2020-07-03       175     True\n",
       "..         ...        ...       ...      ...\n",
       "995 2020-10-17 2020-12-19        63    False\n",
       "996 2020-11-07 2020-12-19        42    False\n",
       "997 2020-11-02 2020-12-21        49    False\n",
       "998 2020-10-22 2020-12-17        56     True\n",
       "999 2020-08-19 2020-12-23       126    False\n",
       "\n",
       "[1000 rows x 4 columns]"
      ]
     },
     "execution_count": 23,
     "metadata": {},
     "output_type": "execute_result"
    }
   ],
   "source": [
    "#добавляем столбец и проверяем, является ли пользователь активным\n",
    "\n",
    "grouped['is_lost'] = (grouped['max'] + pd.to_timedelta(7, unit='d')) < end_date\n",
    "grouped"
   ]
  },
  {
   "cell_type": "code",
   "execution_count": 24,
   "id": "ce6ebf72",
   "metadata": {},
   "outputs": [
    {
     "data": {
      "text/plain": [
       "121.009"
      ]
     },
     "execution_count": 24,
     "metadata": {},
     "output_type": "execute_result"
    }
   ],
   "source": [
    "#проверим среднее значение lifetime\n",
    "\n",
    "grouped['lifetime'].mean()"
   ]
  },
  {
   "cell_type": "markdown",
   "id": "0accba61",
   "metadata": {},
   "source": [
    "_Согласно ТЗ, заказчик хочет видеть количество пользователей с lifetime от 180 дней, по этому мы будем делать прогноз, на основании данных, которые у нас есть. Для этого рассчитаем Retention Rate_"
   ]
  },
  {
   "cell_type": "code",
   "execution_count": 25,
   "id": "d2c1f56d",
   "metadata": {},
   "outputs": [],
   "source": [
    "#создадим таблицу, в которую попадут пользователи, которые регистрировались ранее даты half_date\n",
    "\n",
    "train = grouped[grouped['min'] <= half_date]"
   ]
  },
  {
   "cell_type": "code",
   "execution_count": 26,
   "id": "01f8e225",
   "metadata": {},
   "outputs": [],
   "source": [
    "#задаем периоды\n",
    "\n",
    "periods = [30, 60, 90, 120, 150, 180]"
   ]
  },
  {
   "cell_type": "code",
   "execution_count": 27,
   "id": "79f15cc4",
   "metadata": {},
   "outputs": [
    {
     "data": {
      "text/plain": [
       "[502, 427, 383, 356, 323, 299, 273]"
      ]
     },
     "execution_count": 27,
     "metadata": {},
     "output_type": "execute_result"
    }
   ],
   "source": [
    "#считаем Retention Rate\n",
    "\n",
    "a = [train.shape[0]] + [train[train['lifetime'] > i].shape[0] for i in periods]\n",
    "a"
   ]
  },
  {
   "cell_type": "code",
   "execution_count": 28,
   "id": "cb9f6d85",
   "metadata": {},
   "outputs": [
    {
     "data": {
      "text/plain": [
       "[0.850597609561753,\n",
       " 0.8969555035128806,\n",
       " 0.9295039164490861,\n",
       " 0.9073033707865169,\n",
       " 0.9256965944272446,\n",
       " 0.9130434782608695]"
      ]
     },
     "execution_count": 28,
     "metadata": {},
     "output_type": "execute_result"
    }
   ],
   "source": [
    "#Retention Rate в %\n",
    "\n",
    "transf = []\n",
    "for i in range(len(a)-1):\n",
    "    transf.append(a[i+1]/a[i])\n",
    "    \n",
    "transf"
   ]
  },
  {
   "cell_type": "code",
   "execution_count": 29,
   "id": "2b9420e6",
   "metadata": {},
   "outputs": [
    {
     "data": {
      "text/plain": [
       "{30: {30: 0.149402390438247,\n",
       "  60: 0.08764940239043828,\n",
       "  90: 0.05378486055776899,\n",
       "  120: 0.06573705179282863,\n",
       "  150: 0.047808764940239,\n",
       "  180: 0.05179282868525903,\n",
       "  210: 0.5438247011952191},\n",
       " 60: {60: 0.10304449648711944,\n",
       "  90: 0.06323185011709609,\n",
       "  120: 0.07728337236533955,\n",
       "  150: 0.05620608899297419,\n",
       "  180: 0.060889929742388826,\n",
       "  210: 0.6393442622950819},\n",
       " 90: {90: 0.07049608355091386,\n",
       "  120: 0.08616187989556134,\n",
       "  150: 0.06266318537859006,\n",
       "  180: 0.06788511749347259,\n",
       "  210: 0.7127937336814621},\n",
       " 120: {120: 0.0926966292134831,\n",
       "  150: 0.0674157303370786,\n",
       "  180: 0.0730337078651686,\n",
       "  210: 0.7668539325842697},\n",
       " 150: {150: 0.07430340557275539,\n",
       "  180: 0.08049535603715174,\n",
       "  210: 0.8452012383900929},\n",
       " 180: {180: 0.08695652173913049, 210: 0.9130434782608695}}"
      ]
     },
     "execution_count": 29,
     "metadata": {},
     "output_type": "execute_result"
    }
   ],
   "source": [
    "#создаем словарь в котором рассчитаем математическое ожидание для каждого периода\n",
    "\n",
    "\n",
    "a_dict = {i:{} for i in range(30, 181, 30)}\n",
    "dict_keys = sorted(a_dict.keys())\n",
    "\n",
    "for i in range(len(transf)):\n",
    "    tmp = 1\n",
    "    for j in range(i, len(transf)):\n",
    "        tmp2 = tmp * transf[j]\n",
    "        a_dict[dict_keys[i]][dict_keys[j]] = tmp - tmp2\n",
    "        tmp = tmp2\n",
    "    a_dict[dict_keys[i]][210] = 1 - sum(a_dict[dict_keys[i]].values())\n",
    "    \n",
    "a_dict"
   ]
  },
  {
   "cell_type": "code",
   "execution_count": 30,
   "id": "074fc90d",
   "metadata": {},
   "outputs": [],
   "source": [
    "#пишем функцию, которая вернет нам среднее значение для случайной величины\n",
    "\n",
    "def mean_calc(prob):\n",
    "    mean = 0\n",
    "    for item in prob.items():\n",
    "        mean += item[0] * item[1]\n",
    "    return mean"
   ]
  },
  {
   "cell_type": "code",
   "execution_count": 31,
   "id": "fa4db038",
   "metadata": {},
   "outputs": [
    {
     "data": {
      "text/plain": [
       "{30: 153.16733067729083,\n",
       " 60: 174.80093676814988,\n",
       " 90: 187.98955613577021,\n",
       " 120: 195.42134831460675,\n",
       " 150: 203.12693498452012,\n",
       " 180: 207.3913043478261}"
      ]
     },
     "execution_count": 31,
     "metadata": {},
     "output_type": "execute_result"
    }
   ],
   "source": [
    "#применим функцию и рассчитаем средний lifetime для каждого периода\n",
    "\n",
    "mean_lt = {}\n",
    "\n",
    "for key in a_dict:\n",
    "    mean_lt[key] = mean_calc(a_dict[key])\n",
    "    \n",
    "mean_lt"
   ]
  },
  {
   "cell_type": "code",
   "execution_count": 32,
   "id": "fd8e63af",
   "metadata": {},
   "outputs": [],
   "source": [
    "#пишем функцию, которая пройдется по всем строкам и определит ожидаемый lifetime\n",
    "\n",
    "def predict_lt(row):\n",
    "    if not row['is_lost']:\n",
    "        for item in mean_lt.items():\n",
    "            if row['lifetime'] < item[0]:\n",
    "                return item[1]\n",
    "        return row['lifetime']\n",
    "    else:\n",
    "        return row['lifetime']"
   ]
  },
  {
   "cell_type": "code",
   "execution_count": 33,
   "id": "6b89e61a",
   "metadata": {},
   "outputs": [
    {
     "data": {
      "text/html": [
       "<div>\n",
       "<style scoped>\n",
       "    .dataframe tbody tr th:only-of-type {\n",
       "        vertical-align: middle;\n",
       "    }\n",
       "\n",
       "    .dataframe tbody tr th {\n",
       "        vertical-align: top;\n",
       "    }\n",
       "\n",
       "    .dataframe thead th {\n",
       "        text-align: right;\n",
       "    }\n",
       "</style>\n",
       "<table border=\"1\" class=\"dataframe\">\n",
       "  <thead>\n",
       "    <tr style=\"text-align: right;\">\n",
       "      <th></th>\n",
       "      <th>min</th>\n",
       "      <th>max</th>\n",
       "      <th>lifetime</th>\n",
       "      <th>is_lost</th>\n",
       "      <th>predicted_lt</th>\n",
       "    </tr>\n",
       "    <tr>\n",
       "      <th>id</th>\n",
       "      <th></th>\n",
       "      <th></th>\n",
       "      <th></th>\n",
       "      <th></th>\n",
       "      <th></th>\n",
       "    </tr>\n",
       "  </thead>\n",
       "  <tbody>\n",
       "    <tr>\n",
       "      <th>0</th>\n",
       "      <td>2020-02-18</td>\n",
       "      <td>2020-05-19</td>\n",
       "      <td>91</td>\n",
       "      <td>True</td>\n",
       "      <td>91.000000</td>\n",
       "    </tr>\n",
       "    <tr>\n",
       "      <th>1</th>\n",
       "      <td>2020-03-31</td>\n",
       "      <td>2020-12-22</td>\n",
       "      <td>266</td>\n",
       "      <td>False</td>\n",
       "      <td>266.000000</td>\n",
       "    </tr>\n",
       "    <tr>\n",
       "      <th>2</th>\n",
       "      <td>2020-01-12</td>\n",
       "      <td>2020-02-23</td>\n",
       "      <td>42</td>\n",
       "      <td>True</td>\n",
       "      <td>42.000000</td>\n",
       "    </tr>\n",
       "    <tr>\n",
       "      <th>3</th>\n",
       "      <td>2020-05-23</td>\n",
       "      <td>2020-09-19</td>\n",
       "      <td>119</td>\n",
       "      <td>True</td>\n",
       "      <td>119.000000</td>\n",
       "    </tr>\n",
       "    <tr>\n",
       "      <th>4</th>\n",
       "      <td>2020-01-10</td>\n",
       "      <td>2020-07-03</td>\n",
       "      <td>175</td>\n",
       "      <td>True</td>\n",
       "      <td>175.000000</td>\n",
       "    </tr>\n",
       "    <tr>\n",
       "      <th>...</th>\n",
       "      <td>...</td>\n",
       "      <td>...</td>\n",
       "      <td>...</td>\n",
       "      <td>...</td>\n",
       "      <td>...</td>\n",
       "    </tr>\n",
       "    <tr>\n",
       "      <th>995</th>\n",
       "      <td>2020-10-17</td>\n",
       "      <td>2020-12-19</td>\n",
       "      <td>63</td>\n",
       "      <td>False</td>\n",
       "      <td>187.989556</td>\n",
       "    </tr>\n",
       "    <tr>\n",
       "      <th>996</th>\n",
       "      <td>2020-11-07</td>\n",
       "      <td>2020-12-19</td>\n",
       "      <td>42</td>\n",
       "      <td>False</td>\n",
       "      <td>174.800937</td>\n",
       "    </tr>\n",
       "    <tr>\n",
       "      <th>997</th>\n",
       "      <td>2020-11-02</td>\n",
       "      <td>2020-12-21</td>\n",
       "      <td>49</td>\n",
       "      <td>False</td>\n",
       "      <td>174.800937</td>\n",
       "    </tr>\n",
       "    <tr>\n",
       "      <th>998</th>\n",
       "      <td>2020-10-22</td>\n",
       "      <td>2020-12-17</td>\n",
       "      <td>56</td>\n",
       "      <td>True</td>\n",
       "      <td>56.000000</td>\n",
       "    </tr>\n",
       "    <tr>\n",
       "      <th>999</th>\n",
       "      <td>2020-08-19</td>\n",
       "      <td>2020-12-23</td>\n",
       "      <td>126</td>\n",
       "      <td>False</td>\n",
       "      <td>203.126935</td>\n",
       "    </tr>\n",
       "  </tbody>\n",
       "</table>\n",
       "<p>1000 rows × 5 columns</p>\n",
       "</div>"
      ],
      "text/plain": [
       "           min        max  lifetime  is_lost  predicted_lt\n",
       "id                                                        \n",
       "0   2020-02-18 2020-05-19        91     True     91.000000\n",
       "1   2020-03-31 2020-12-22       266    False    266.000000\n",
       "2   2020-01-12 2020-02-23        42     True     42.000000\n",
       "3   2020-05-23 2020-09-19       119     True    119.000000\n",
       "4   2020-01-10 2020-07-03       175     True    175.000000\n",
       "..         ...        ...       ...      ...           ...\n",
       "995 2020-10-17 2020-12-19        63    False    187.989556\n",
       "996 2020-11-07 2020-12-19        42    False    174.800937\n",
       "997 2020-11-02 2020-12-21        49    False    174.800937\n",
       "998 2020-10-22 2020-12-17        56     True     56.000000\n",
       "999 2020-08-19 2020-12-23       126    False    203.126935\n",
       "\n",
       "[1000 rows x 5 columns]"
      ]
     },
     "execution_count": 33,
     "metadata": {},
     "output_type": "execute_result"
    }
   ],
   "source": [
    "#применяем функцию \n",
    "\n",
    "grouped['predicted_lt'] = grouped.apply(predict_lt, axis=1)\n",
    "grouped"
   ]
  },
  {
   "cell_type": "code",
   "execution_count": 34,
   "id": "39bf1086",
   "metadata": {},
   "outputs": [
    {
     "data": {
      "text/plain": [
       "160.30785576714436"
      ]
     },
     "execution_count": 34,
     "metadata": {},
     "output_type": "execute_result"
    }
   ],
   "source": [
    "#проверим средний lifetime\n",
    "\n",
    "grouped['predicted_lt'].mean()"
   ]
  },
  {
   "cell_type": "markdown",
   "id": "60712ab7",
   "metadata": {},
   "source": [
    "**_Средний прогнозируемый lifetime получился меньше (160 дней), чем запрашивал заказчик (180 дней). Так получилось из-за того, что приложение работает меньше года, по этому будет целесообразно провести повторный анализ через 3-4 месяца_**"
   ]
  },
  {
   "cell_type": "code",
   "execution_count": null,
   "id": "71c7da5d",
   "metadata": {},
   "outputs": [],
   "source": []
  }
 ],
 "metadata": {
  "kernelspec": {
   "display_name": "Python 3 (ipykernel)",
   "language": "python",
   "name": "python3"
  },
  "language_info": {
   "codemirror_mode": {
    "name": "ipython",
    "version": 3
   },
   "file_extension": ".py",
   "mimetype": "text/x-python",
   "name": "python",
   "nbconvert_exporter": "python",
   "pygments_lexer": "ipython3",
   "version": "3.11.4"
  },
  "toc": {
   "base_numbering": 1,
   "nav_menu": {},
   "number_sections": true,
   "sideBar": true,
   "skip_h1_title": false,
   "title_cell": "Table of Contents",
   "title_sidebar": "Contents",
   "toc_cell": false,
   "toc_position": {
    "height": "calc(100% - 180px)",
    "left": "10px",
    "top": "150px",
    "width": "276.542px"
   },
   "toc_section_display": true,
   "toc_window_display": true
  }
 },
 "nbformat": 4,
 "nbformat_minor": 5
}
