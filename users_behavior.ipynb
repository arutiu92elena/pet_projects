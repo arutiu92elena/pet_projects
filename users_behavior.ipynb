{
 "cells": [
  {
   "cell_type": "markdown",
   "id": "a77b6378",
   "metadata": {},
   "source": [
    "## Анализ пользователей мобильных устройств"
   ]
  },
  {
   "cell_type": "markdown",
   "id": "c47c8855",
   "metadata": {},
   "source": [
    "**Цель**: 1. Выявить зависимость между количеством установок приложения и другими аспектами (модель телефона, возраст и т.д.). 2. Предоставить данные по сегментам пользователя (среднее время активности в приложении, количество приложений на устройстве и т.д.) 3. Проверить гипотезы. №1 Женщины устанавливают больше приложений чем мужчины, №2 У женщин активность экрана выше чем у мужчин"
   ]
  },
  {
   "cell_type": "markdown",
   "id": "1ea78bcc",
   "metadata": {},
   "source": [
    "Датафрейм был получен из открытого источника <https://www.kaggle.com/datasets/valakhorasani/mobile-device-usage-and-user-behavior-dataset/data> \n",
    "\n",
    "Описание данных к файлу `user_behavior.csv` \n",
    "\n",
    " - `User ID`: уникальный идентификатор для каждого пользователя.\n",
    " - `Device Model`: модель смартфона пользователя.\n",
    " - `Operating System`: операционная система устройства (iOS или Android).\n",
    " - `App Usage Time (min/day)`: ежедневное время, затрачиваемое на мобильные приложения, измеряемое в минутах.\n",
    " - `Screen On Time (hours/day)`: среднее количество часов в день, когда экран активен.\n",
    " - `Battery Drain (mAh/day)`: ежедневный расход батареи в мАч.\n",
    " - `Number of Apps Installed`: общее количество приложений, доступных на устройстве.\n",
    " - `Data Usage (MB/day)`: ежедневное потребление мобильных данных в мегабайтах.\n",
    " - `Age`: возраст пользователя.\n",
    " - `Gender`: пол пользователя (мужчина или женщина).\n",
    " - `User Behavior Class`: классификация поведения пользователя на основе моделей использования (от 1 до 5)."
   ]
  },
  {
   "cell_type": "markdown",
   "id": "dc986f27",
   "metadata": {},
   "source": [
    "## Изучение общей информации"
   ]
  },
  {
   "cell_type": "code",
   "execution_count": 1,
   "id": "7ef00874",
   "metadata": {},
   "outputs": [],
   "source": [
    "#импортируем библиотеки\n",
    "import pandas as pd\n",
    "import matplotlib.pyplot as plt\n",
    "import scipy.stats as st\n",
    "\n",
    "#игнорируем ошибки\n",
    "import warnings\n",
    "warnings.filterwarnings('ignore')\n",
    "\n",
    "#выводим столбцы и строки полностью, формат округлен\n",
    "pd.set_option('display.max_columns', None)\n",
    "pd.options.display.float_format = '{:,.2f}'.format\n",
    "\n",
    "#выводим значения без сокращений\n",
    "pd.set_option('display.max_colwidth', None)"
   ]
  },
  {
   "cell_type": "code",
   "execution_count": 2,
   "id": "fc08e40c",
   "metadata": {},
   "outputs": [],
   "source": [
    "#читаем и сохраняем датафрейм\n",
    "df = pd.read_csv('user_behavior.csv')"
   ]
  },
  {
   "cell_type": "code",
   "execution_count": 3,
   "id": "97aa3cf8",
   "metadata": {},
   "outputs": [
    {
     "name": "stdout",
     "output_type": "stream",
     "text": [
      "<class 'pandas.core.frame.DataFrame'>\n",
      "RangeIndex: 700 entries, 0 to 699\n",
      "Data columns (total 11 columns):\n",
      " #   Column                      Non-Null Count  Dtype  \n",
      "---  ------                      --------------  -----  \n",
      " 0   User ID                     700 non-null    int64  \n",
      " 1   Device Model                700 non-null    object \n",
      " 2   Operating System            700 non-null    object \n",
      " 3   App Usage Time (min/day)    700 non-null    int64  \n",
      " 4   Screen On Time (hours/day)  700 non-null    float64\n",
      " 5   Battery Drain (mAh/day)     700 non-null    int64  \n",
      " 6   Number of Apps Installed    700 non-null    int64  \n",
      " 7   Data Usage (MB/day)         700 non-null    int64  \n",
      " 8   Age                         700 non-null    int64  \n",
      " 9   Gender                      700 non-null    object \n",
      " 10  User Behavior Class         700 non-null    int64  \n",
      "dtypes: float64(1), int64(7), object(3)\n",
      "memory usage: 60.3+ KB\n"
     ]
    }
   ],
   "source": [
    "#выводим общую информацию\n",
    "df.info()"
   ]
  },
  {
   "cell_type": "code",
   "execution_count": 4,
   "id": "54c1b033",
   "metadata": {},
   "outputs": [
    {
     "data": {
      "text/html": [
       "<div>\n",
       "<style scoped>\n",
       "    .dataframe tbody tr th:only-of-type {\n",
       "        vertical-align: middle;\n",
       "    }\n",
       "\n",
       "    .dataframe tbody tr th {\n",
       "        vertical-align: top;\n",
       "    }\n",
       "\n",
       "    .dataframe thead th {\n",
       "        text-align: right;\n",
       "    }\n",
       "</style>\n",
       "<table border=\"1\" class=\"dataframe\">\n",
       "  <thead>\n",
       "    <tr style=\"text-align: right;\">\n",
       "      <th></th>\n",
       "      <th>User ID</th>\n",
       "      <th>Device Model</th>\n",
       "      <th>Operating System</th>\n",
       "      <th>App Usage Time (min/day)</th>\n",
       "      <th>Screen On Time (hours/day)</th>\n",
       "      <th>Battery Drain (mAh/day)</th>\n",
       "      <th>Number of Apps Installed</th>\n",
       "      <th>Data Usage (MB/day)</th>\n",
       "      <th>Age</th>\n",
       "      <th>Gender</th>\n",
       "      <th>User Behavior Class</th>\n",
       "    </tr>\n",
       "  </thead>\n",
       "  <tbody>\n",
       "    <tr>\n",
       "      <th>0</th>\n",
       "      <td>1</td>\n",
       "      <td>Google Pixel 5</td>\n",
       "      <td>Android</td>\n",
       "      <td>393</td>\n",
       "      <td>6.40</td>\n",
       "      <td>1872</td>\n",
       "      <td>67</td>\n",
       "      <td>1122</td>\n",
       "      <td>40</td>\n",
       "      <td>Male</td>\n",
       "      <td>4</td>\n",
       "    </tr>\n",
       "    <tr>\n",
       "      <th>1</th>\n",
       "      <td>2</td>\n",
       "      <td>OnePlus 9</td>\n",
       "      <td>Android</td>\n",
       "      <td>268</td>\n",
       "      <td>4.70</td>\n",
       "      <td>1331</td>\n",
       "      <td>42</td>\n",
       "      <td>944</td>\n",
       "      <td>47</td>\n",
       "      <td>Female</td>\n",
       "      <td>3</td>\n",
       "    </tr>\n",
       "    <tr>\n",
       "      <th>2</th>\n",
       "      <td>3</td>\n",
       "      <td>Xiaomi Mi 11</td>\n",
       "      <td>Android</td>\n",
       "      <td>154</td>\n",
       "      <td>4.00</td>\n",
       "      <td>761</td>\n",
       "      <td>32</td>\n",
       "      <td>322</td>\n",
       "      <td>42</td>\n",
       "      <td>Male</td>\n",
       "      <td>2</td>\n",
       "    </tr>\n",
       "    <tr>\n",
       "      <th>3</th>\n",
       "      <td>4</td>\n",
       "      <td>Google Pixel 5</td>\n",
       "      <td>Android</td>\n",
       "      <td>239</td>\n",
       "      <td>4.80</td>\n",
       "      <td>1676</td>\n",
       "      <td>56</td>\n",
       "      <td>871</td>\n",
       "      <td>20</td>\n",
       "      <td>Male</td>\n",
       "      <td>3</td>\n",
       "    </tr>\n",
       "    <tr>\n",
       "      <th>4</th>\n",
       "      <td>5</td>\n",
       "      <td>iPhone 12</td>\n",
       "      <td>iOS</td>\n",
       "      <td>187</td>\n",
       "      <td>4.30</td>\n",
       "      <td>1367</td>\n",
       "      <td>58</td>\n",
       "      <td>988</td>\n",
       "      <td>31</td>\n",
       "      <td>Female</td>\n",
       "      <td>3</td>\n",
       "    </tr>\n",
       "  </tbody>\n",
       "</table>\n",
       "</div>"
      ],
      "text/plain": [
       "   User ID    Device Model Operating System  App Usage Time (min/day)  \\\n",
       "0        1  Google Pixel 5          Android                       393   \n",
       "1        2       OnePlus 9          Android                       268   \n",
       "2        3    Xiaomi Mi 11          Android                       154   \n",
       "3        4  Google Pixel 5          Android                       239   \n",
       "4        5       iPhone 12              iOS                       187   \n",
       "\n",
       "   Screen On Time (hours/day)  Battery Drain (mAh/day)  \\\n",
       "0                        6.40                     1872   \n",
       "1                        4.70                     1331   \n",
       "2                        4.00                      761   \n",
       "3                        4.80                     1676   \n",
       "4                        4.30                     1367   \n",
       "\n",
       "   Number of Apps Installed  Data Usage (MB/day)  Age  Gender  \\\n",
       "0                        67                 1122   40    Male   \n",
       "1                        42                  944   47  Female   \n",
       "2                        32                  322   42    Male   \n",
       "3                        56                  871   20    Male   \n",
       "4                        58                  988   31  Female   \n",
       "\n",
       "   User Behavior Class  \n",
       "0                    4  \n",
       "1                    3  \n",
       "2                    2  \n",
       "3                    3  \n",
       "4                    3  "
      ]
     },
     "execution_count": 4,
     "metadata": {},
     "output_type": "execute_result"
    }
   ],
   "source": [
    "#выводим первые пять строк датафрейма\n",
    "df.head()"
   ]
  },
  {
   "cell_type": "code",
   "execution_count": 5,
   "id": "b8ace72b",
   "metadata": {},
   "outputs": [
    {
     "data": {
      "text/plain": [
       "0"
      ]
     },
     "execution_count": 5,
     "metadata": {},
     "output_type": "execute_result"
    }
   ],
   "source": [
    "#проверяем наличие дубликатов\n",
    "df.duplicated().sum()"
   ]
  },
  {
   "cell_type": "code",
   "execution_count": 6,
   "id": "acb6846b",
   "metadata": {},
   "outputs": [],
   "source": [
    "#напишем функцию, которая выведет уникальные значения для всех столбцов\n",
    "\n",
    "def col_unique(data):\n",
    "    ''' На вход передаем текущий фрейм и создаем стобец в который попадут уникальные значения\n",
    "    и  их количество. Переворачиваем таблицу для удобства чтения и сортируем в порядке возрастания'''\n",
    "    \n",
    "    df = data\n",
    "    values = pd.DataFrame()\n",
    "    \n",
    "    for col in df.columns:\n",
    "        values[col] = [df[col].unique(), df[col].nunique()]\n",
    "    \n",
    "    return values.transpose().sort_values(by=1, ascending=True).rename(\n",
    "        {0:'Уникальные значения', 1:'Кол-во уникальных значений'}, axis=1)\n"
   ]
  },
  {
   "cell_type": "code",
   "execution_count": 7,
   "id": "ebd02a73",
   "metadata": {},
   "outputs": [
    {
     "data": {
      "text/html": [
       "<div>\n",
       "<style scoped>\n",
       "    .dataframe tbody tr th:only-of-type {\n",
       "        vertical-align: middle;\n",
       "    }\n",
       "\n",
       "    .dataframe tbody tr th {\n",
       "        vertical-align: top;\n",
       "    }\n",
       "\n",
       "    .dataframe thead th {\n",
       "        text-align: right;\n",
       "    }\n",
       "</style>\n",
       "<table border=\"1\" class=\"dataframe\">\n",
       "  <thead>\n",
       "    <tr style=\"text-align: right;\">\n",
       "      <th></th>\n",
       "      <th>Уникальные значения</th>\n",
       "      <th>Кол-во уникальных значений</th>\n",
       "    </tr>\n",
       "  </thead>\n",
       "  <tbody>\n",
       "    <tr>\n",
       "      <th>Operating System</th>\n",
       "      <td>[Android, iOS]</td>\n",
       "      <td>2</td>\n",
       "    </tr>\n",
       "    <tr>\n",
       "      <th>Gender</th>\n",
       "      <td>[Male, Female]</td>\n",
       "      <td>2</td>\n",
       "    </tr>\n",
       "    <tr>\n",
       "      <th>Device Model</th>\n",
       "      <td>[Google Pixel 5, OnePlus 9, Xiaomi Mi 11, iPhone 12, Samsung Galaxy S21]</td>\n",
       "      <td>5</td>\n",
       "    </tr>\n",
       "    <tr>\n",
       "      <th>User Behavior Class</th>\n",
       "      <td>[4, 3, 2, 5, 1]</td>\n",
       "      <td>5</td>\n",
       "    </tr>\n",
       "    <tr>\n",
       "      <th>Age</th>\n",
       "      <td>[40, 47, 42, 20, 31, 21, 34, 24, 57, 43, 49, 39, 44, 26, 29, 45, 23, 37, 58, 52, 33, 55, 19, 25, 38, 56, 18, 22, 27, 54, 53, 30, 28, 50, 51, 41, 32, 35, 36, 59, 48, 46]</td>\n",
       "      <td>42</td>\n",
       "    </tr>\n",
       "    <tr>\n",
       "      <th>Number of Apps Installed</th>\n",
       "      <td>[67, 42, 32, 56, 58, 35, 66, 82, 75, 17, 47, 65, 43, 53, 84, 41, 16, 89, 37, 46, 59, 38, 77, 78, 44, 55, 14, 81, 19, 30, 93, 74, 52, 83, 39, 21, 96, 97, 25, 90, 61, 28, 10, 64, 85, 87, 48, 57, 98, 11, 29, 99, 22, 63, 31, 24, 72, 73, 91, 18, 15, 45, 12, 26, 33, 76, 34, 13, 49, 71, 68, 69, 94, 92, 36, 79, 88, 27, 51, 23, 86, 95, 50, 70, 54, 62]</td>\n",
       "      <td>86</td>\n",
       "    </tr>\n",
       "    <tr>\n",
       "      <th>Screen On Time (hours/day)</th>\n",
       "      <td>[6.4, 4.7, 4.0, 4.8, 4.3, 2.0, 7.3, 11.4, 7.7, 6.6, 1.4, 5.5, 6.2, 4.9, 5.4, 10.4, 3.6, 5.8, 8.5, 2.6, 11.6, 6.5, 5.6, 3.4, 7.6, 10.5, 6.8, 6.0, 4.6, 10.2, 1.2, 3.3, 11.2, 10.1, 2.1, 3.7, 2.4, 10.9, 8.4, 8.2, 8.7, 7.4, 5.9, 2.7, 2.2, 1.6, 1.1, 7.0, 7.1, 11.9, 7.5, 1.9, 11.5, 4.5, 1.7, 7.2, 9.0, 6.3, 5.7, 2.5, 1.8, 10.6, 2.8, 1.5, 4.1, 9.5, 12.0, 4.2, 3.8, 8.6, 5.1, 3.2, 7.9, 5.2, 10.0, 8.1, 11.8, 10.8, 1.0, 11.3, 9.7, 11.1, 5.3, 9.4, 7.8, 9.2, 10.7, 4.4, 8.9, 1.3, 3.1, 9.3, 6.1, 6.9, 9.6, 2.3, 11.7, 3.5, 5.0, 2.9, ...]</td>\n",
       "      <td>108</td>\n",
       "    </tr>\n",
       "    <tr>\n",
       "      <th>App Usage Time (min/day)</th>\n",
       "      <td>[393, 268, 154, 239, 187, 99, 350, 543, 340, 424, 53, 215, 462, 189, 503, 132, 299, 81, 577, 93, 576, 423, 292, 216, 91, 444, 512, 452, 412, 260, 197, 278, 46, 593, 32, 122, 522, 473, 398, 240, 120, 152, 138, 502, 558, 580, 589, 245, 125, 97, 516, 68, 64, 539, 428, 325, 309, 79, 545, 459, 225, 257, 134, 82, 521, 457, 31, 47, 229, 34, 173, 78, 230, 565, 172, 330, 39, 223, 404, 151, 137, 301, 116, 291, 84, 411, 326, 550, 59, 41, 183, 174, 274, 166, 66, 54, 95, 488, 295, 136, ...]</td>\n",
       "      <td>387</td>\n",
       "    </tr>\n",
       "    <tr>\n",
       "      <th>Data Usage (MB/day)</th>\n",
       "      <td>[1122, 944, 322, 871, 988, 564, 1054, 1702, 1053, 1301, 162, 641, 1099, 857, 779, 2025, 344, 985, 297, 2192, 302, 1553, 1372, 949, 748, 451, 1002, 1599, 1456, 1384, 889, 975, 917, 105, 1616, 153, 573, 2328, 1400, 1180, 708, 2323, 392, 429, 572, 1935, 1594, 323, 2262, 1997, 1417, 885, 393, 375, 2189, 111, 161, 2415, 1144, 1663, 1253, 128, 1717, 1091, 912, 449, 1547, 284, 1090, 1701, 1082, 208, 125, 122, 301, 138, 989, 1603, 549, 1133, 695, 1352, 276, 348, 1303, 307, 827, 367, 1083, 1454, 1946, 1968, 293, 875, 136, 738, 565, 934, 360, 264, ...]</td>\n",
       "      <td>585</td>\n",
       "    </tr>\n",
       "    <tr>\n",
       "      <th>Battery Drain (mAh/day)</th>\n",
       "      <td>[1872, 1331, 761, 1676, 1367, 940, 1802, 2956, 2138, 1957, 435, 1690, 2303, 1662, 1754, 2571, 628, 1431, 558, 2774, 681, 2803, 2094, 1401, 1711, 1073, 2372, 2409, 2387, 1899, 1361, 1660, 1484, 457, 2499, 580, 755, 2808, 2312, 1851, 1464, 2447, 720, 993, 837, 2476, 889, 2623, 2736, 2180, 1243, 690, 1101, 2857, 450, 572, 2796, 2306, 2269, 2798, 2292, 493, 2911, 1982, 1420, 1705, 773, 2932, 1808, 2902, 2347, 585, 476, 1305, 678, 333, 1254, 2475, 1035, 2363, 368, 1311, 2081, 1003, 345, 839, 2053, 912, 1474, 501, 1125, 2169, 2243, 2916, 2406, 361, 1526, 389, 1210, 929, ...]</td>\n",
       "      <td>628</td>\n",
       "    </tr>\n",
       "    <tr>\n",
       "      <th>User ID</th>\n",
       "      <td>[1, 2, 3, 4, 5, 6, 7, 8, 9, 10, 11, 12, 13, 14, 15, 16, 17, 18, 19, 20, 21, 22, 23, 24, 25, 26, 27, 28, 29, 30, 31, 32, 33, 34, 35, 36, 37, 38, 39, 40, 41, 42, 43, 44, 45, 46, 47, 48, 49, 50, 51, 52, 53, 54, 55, 56, 57, 58, 59, 60, 61, 62, 63, 64, 65, 66, 67, 68, 69, 70, 71, 72, 73, 74, 75, 76, 77, 78, 79, 80, 81, 82, 83, 84, 85, 86, 87, 88, 89, 90, 91, 92, 93, 94, 95, 96, 97, 98, 99, 100, ...]</td>\n",
       "      <td>700</td>\n",
       "    </tr>\n",
       "  </tbody>\n",
       "</table>\n",
       "</div>"
      ],
      "text/plain": [
       "                                                                                                                                                                                                                                                                                                                                                                                                                                                                                                                                                                                                        Уникальные значения  \\\n",
       "Operating System                                                                                                                                                                                                                                                                                                                                                                                                                                                                                                                                                                                             [Android, iOS]   \n",
       "Gender                                                                                                                                                                                                                                                                                                                                                                                                                                                                                                                                                                                                       [Male, Female]   \n",
       "Device Model                                                                                                                                                                                                                                                                                                                                                                                                                                                                                                                                       [Google Pixel 5, OnePlus 9, Xiaomi Mi 11, iPhone 12, Samsung Galaxy S21]   \n",
       "User Behavior Class                                                                                                                                                                                                                                                                                                                                                                                                                                                                                                                                                                                         [4, 3, 2, 5, 1]   \n",
       "Age                                                                                                                                                                                                                                                                                                                                                                                                                                                [40, 47, 42, 20, 31, 21, 34, 24, 57, 43, 49, 39, 44, 26, 29, 45, 23, 37, 58, 52, 33, 55, 19, 25, 38, 56, 18, 22, 27, 54, 53, 30, 28, 50, 51, 41, 32, 35, 36, 59, 48, 46]   \n",
       "Number of Apps Installed                                                                                                                                                                                                                                           [67, 42, 32, 56, 58, 35, 66, 82, 75, 17, 47, 65, 43, 53, 84, 41, 16, 89, 37, 46, 59, 38, 77, 78, 44, 55, 14, 81, 19, 30, 93, 74, 52, 83, 39, 21, 96, 97, 25, 90, 61, 28, 10, 64, 85, 87, 48, 57, 98, 11, 29, 99, 22, 63, 31, 24, 72, 73, 91, 18, 15, 45, 12, 26, 33, 76, 34, 13, 49, 71, 68, 69, 94, 92, 36, 79, 88, 27, 51, 23, 86, 95, 50, 70, 54, 62]   \n",
       "Screen On Time (hours/day)                                                     [6.4, 4.7, 4.0, 4.8, 4.3, 2.0, 7.3, 11.4, 7.7, 6.6, 1.4, 5.5, 6.2, 4.9, 5.4, 10.4, 3.6, 5.8, 8.5, 2.6, 11.6, 6.5, 5.6, 3.4, 7.6, 10.5, 6.8, 6.0, 4.6, 10.2, 1.2, 3.3, 11.2, 10.1, 2.1, 3.7, 2.4, 10.9, 8.4, 8.2, 8.7, 7.4, 5.9, 2.7, 2.2, 1.6, 1.1, 7.0, 7.1, 11.9, 7.5, 1.9, 11.5, 4.5, 1.7, 7.2, 9.0, 6.3, 5.7, 2.5, 1.8, 10.6, 2.8, 1.5, 4.1, 9.5, 12.0, 4.2, 3.8, 8.6, 5.1, 3.2, 7.9, 5.2, 10.0, 8.1, 11.8, 10.8, 1.0, 11.3, 9.7, 11.1, 5.3, 9.4, 7.8, 9.2, 10.7, 4.4, 8.9, 1.3, 3.1, 9.3, 6.1, 6.9, 9.6, 2.3, 11.7, 3.5, 5.0, 2.9, ...]   \n",
       "App Usage Time (min/day)                                                                                                 [393, 268, 154, 239, 187, 99, 350, 543, 340, 424, 53, 215, 462, 189, 503, 132, 299, 81, 577, 93, 576, 423, 292, 216, 91, 444, 512, 452, 412, 260, 197, 278, 46, 593, 32, 122, 522, 473, 398, 240, 120, 152, 138, 502, 558, 580, 589, 245, 125, 97, 516, 68, 64, 539, 428, 325, 309, 79, 545, 459, 225, 257, 134, 82, 521, 457, 31, 47, 229, 34, 173, 78, 230, 565, 172, 330, 39, 223, 404, 151, 137, 301, 116, 291, 84, 411, 326, 550, 59, 41, 183, 174, 274, 166, 66, 54, 95, 488, 295, 136, ...]   \n",
       "Data Usage (MB/day)                                    [1122, 944, 322, 871, 988, 564, 1054, 1702, 1053, 1301, 162, 641, 1099, 857, 779, 2025, 344, 985, 297, 2192, 302, 1553, 1372, 949, 748, 451, 1002, 1599, 1456, 1384, 889, 975, 917, 105, 1616, 153, 573, 2328, 1400, 1180, 708, 2323, 392, 429, 572, 1935, 1594, 323, 2262, 1997, 1417, 885, 393, 375, 2189, 111, 161, 2415, 1144, 1663, 1253, 128, 1717, 1091, 912, 449, 1547, 284, 1090, 1701, 1082, 208, 125, 122, 301, 138, 989, 1603, 549, 1133, 695, 1352, 276, 348, 1303, 307, 827, 367, 1083, 1454, 1946, 1968, 293, 875, 136, 738, 565, 934, 360, 264, ...]   \n",
       "Battery Drain (mAh/day)     [1872, 1331, 761, 1676, 1367, 940, 1802, 2956, 2138, 1957, 435, 1690, 2303, 1662, 1754, 2571, 628, 1431, 558, 2774, 681, 2803, 2094, 1401, 1711, 1073, 2372, 2409, 2387, 1899, 1361, 1660, 1484, 457, 2499, 580, 755, 2808, 2312, 1851, 1464, 2447, 720, 993, 837, 2476, 889, 2623, 2736, 2180, 1243, 690, 1101, 2857, 450, 572, 2796, 2306, 2269, 2798, 2292, 493, 2911, 1982, 1420, 1705, 773, 2932, 1808, 2902, 2347, 585, 476, 1305, 678, 333, 1254, 2475, 1035, 2363, 368, 1311, 2081, 1003, 345, 839, 2053, 912, 1474, 501, 1125, 2169, 2243, 2916, 2406, 361, 1526, 389, 1210, 929, ...]   \n",
       "User ID                                                                                                                                                                                                       [1, 2, 3, 4, 5, 6, 7, 8, 9, 10, 11, 12, 13, 14, 15, 16, 17, 18, 19, 20, 21, 22, 23, 24, 25, 26, 27, 28, 29, 30, 31, 32, 33, 34, 35, 36, 37, 38, 39, 40, 41, 42, 43, 44, 45, 46, 47, 48, 49, 50, 51, 52, 53, 54, 55, 56, 57, 58, 59, 60, 61, 62, 63, 64, 65, 66, 67, 68, 69, 70, 71, 72, 73, 74, 75, 76, 77, 78, 79, 80, 81, 82, 83, 84, 85, 86, 87, 88, 89, 90, 91, 92, 93, 94, 95, 96, 97, 98, 99, 100, ...]   \n",
       "\n",
       "                           Кол-во уникальных значений  \n",
       "Operating System                                    2  \n",
       "Gender                                              2  \n",
       "Device Model                                        5  \n",
       "User Behavior Class                                 5  \n",
       "Age                                                42  \n",
       "Number of Apps Installed                           86  \n",
       "Screen On Time (hours/day)                        108  \n",
       "App Usage Time (min/day)                          387  \n",
       "Data Usage (MB/day)                               585  \n",
       "Battery Drain (mAh/day)                           628  \n",
       "User ID                                           700  "
      ]
     },
     "execution_count": 7,
     "metadata": {},
     "output_type": "execute_result"
    }
   ],
   "source": [
    "col_unique(df)"
   ]
  },
  {
   "cell_type": "code",
   "execution_count": 8,
   "id": "4f488628",
   "metadata": {},
   "outputs": [
    {
     "data": {
      "text/html": [
       "<div>\n",
       "<style scoped>\n",
       "    .dataframe tbody tr th:only-of-type {\n",
       "        vertical-align: middle;\n",
       "    }\n",
       "\n",
       "    .dataframe tbody tr th {\n",
       "        vertical-align: top;\n",
       "    }\n",
       "\n",
       "    .dataframe thead th {\n",
       "        text-align: right;\n",
       "    }\n",
       "</style>\n",
       "<table border=\"1\" class=\"dataframe\">\n",
       "  <thead>\n",
       "    <tr style=\"text-align: right;\">\n",
       "      <th></th>\n",
       "      <th>User ID</th>\n",
       "      <th>App Usage Time (min/day)</th>\n",
       "      <th>Screen On Time (hours/day)</th>\n",
       "      <th>Battery Drain (mAh/day)</th>\n",
       "      <th>Number of Apps Installed</th>\n",
       "      <th>Data Usage (MB/day)</th>\n",
       "      <th>Age</th>\n",
       "      <th>User Behavior Class</th>\n",
       "    </tr>\n",
       "  </thead>\n",
       "  <tbody>\n",
       "    <tr>\n",
       "      <th>count</th>\n",
       "      <td>700.00</td>\n",
       "      <td>700.00</td>\n",
       "      <td>700.00</td>\n",
       "      <td>700.00</td>\n",
       "      <td>700.00</td>\n",
       "      <td>700.00</td>\n",
       "      <td>700.00</td>\n",
       "      <td>700.00</td>\n",
       "    </tr>\n",
       "    <tr>\n",
       "      <th>mean</th>\n",
       "      <td>350.50</td>\n",
       "      <td>271.13</td>\n",
       "      <td>5.27</td>\n",
       "      <td>1,525.16</td>\n",
       "      <td>50.68</td>\n",
       "      <td>929.74</td>\n",
       "      <td>38.48</td>\n",
       "      <td>2.99</td>\n",
       "    </tr>\n",
       "    <tr>\n",
       "      <th>std</th>\n",
       "      <td>202.22</td>\n",
       "      <td>177.20</td>\n",
       "      <td>3.07</td>\n",
       "      <td>819.14</td>\n",
       "      <td>26.94</td>\n",
       "      <td>640.45</td>\n",
       "      <td>12.01</td>\n",
       "      <td>1.40</td>\n",
       "    </tr>\n",
       "    <tr>\n",
       "      <th>min</th>\n",
       "      <td>1.00</td>\n",
       "      <td>30.00</td>\n",
       "      <td>1.00</td>\n",
       "      <td>302.00</td>\n",
       "      <td>10.00</td>\n",
       "      <td>102.00</td>\n",
       "      <td>18.00</td>\n",
       "      <td>1.00</td>\n",
       "    </tr>\n",
       "    <tr>\n",
       "      <th>25%</th>\n",
       "      <td>175.75</td>\n",
       "      <td>113.25</td>\n",
       "      <td>2.50</td>\n",
       "      <td>722.25</td>\n",
       "      <td>26.00</td>\n",
       "      <td>373.00</td>\n",
       "      <td>28.00</td>\n",
       "      <td>2.00</td>\n",
       "    </tr>\n",
       "    <tr>\n",
       "      <th>50%</th>\n",
       "      <td>350.50</td>\n",
       "      <td>227.50</td>\n",
       "      <td>4.90</td>\n",
       "      <td>1,502.50</td>\n",
       "      <td>49.00</td>\n",
       "      <td>823.50</td>\n",
       "      <td>38.00</td>\n",
       "      <td>3.00</td>\n",
       "    </tr>\n",
       "    <tr>\n",
       "      <th>75%</th>\n",
       "      <td>525.25</td>\n",
       "      <td>434.25</td>\n",
       "      <td>7.40</td>\n",
       "      <td>2,229.50</td>\n",
       "      <td>74.00</td>\n",
       "      <td>1,341.00</td>\n",
       "      <td>49.00</td>\n",
       "      <td>4.00</td>\n",
       "    </tr>\n",
       "    <tr>\n",
       "      <th>max</th>\n",
       "      <td>700.00</td>\n",
       "      <td>598.00</td>\n",
       "      <td>12.00</td>\n",
       "      <td>2,993.00</td>\n",
       "      <td>99.00</td>\n",
       "      <td>2,497.00</td>\n",
       "      <td>59.00</td>\n",
       "      <td>5.00</td>\n",
       "    </tr>\n",
       "  </tbody>\n",
       "</table>\n",
       "</div>"
      ],
      "text/plain": [
       "       User ID  App Usage Time (min/day)  Screen On Time (hours/day)  \\\n",
       "count   700.00                    700.00                      700.00   \n",
       "mean    350.50                    271.13                        5.27   \n",
       "std     202.22                    177.20                        3.07   \n",
       "min       1.00                     30.00                        1.00   \n",
       "25%     175.75                    113.25                        2.50   \n",
       "50%     350.50                    227.50                        4.90   \n",
       "75%     525.25                    434.25                        7.40   \n",
       "max     700.00                    598.00                       12.00   \n",
       "\n",
       "       Battery Drain (mAh/day)  Number of Apps Installed  Data Usage (MB/day)  \\\n",
       "count                   700.00                    700.00               700.00   \n",
       "mean                  1,525.16                     50.68               929.74   \n",
       "std                     819.14                     26.94               640.45   \n",
       "min                     302.00                     10.00               102.00   \n",
       "25%                     722.25                     26.00               373.00   \n",
       "50%                   1,502.50                     49.00               823.50   \n",
       "75%                   2,229.50                     74.00             1,341.00   \n",
       "max                   2,993.00                     99.00             2,497.00   \n",
       "\n",
       "         Age  User Behavior Class  \n",
       "count 700.00               700.00  \n",
       "mean   38.48                 2.99  \n",
       "std    12.01                 1.40  \n",
       "min    18.00                 1.00  \n",
       "25%    28.00                 2.00  \n",
       "50%    38.00                 3.00  \n",
       "75%    49.00                 4.00  \n",
       "max    59.00                 5.00  "
      ]
     },
     "execution_count": 8,
     "metadata": {},
     "output_type": "execute_result"
    }
   ],
   "source": [
    "#ознакомимся со значениями датафрейма\n",
    "df.describe()"
   ]
  },
  {
   "cell_type": "markdown",
   "id": "ad02bc3d",
   "metadata": {},
   "source": [
    "_Мы ознакомились с датафреймом и можем сделать следующие выводы:_\n",
    "\n",
    "_1. В датафрейме представлены данные для 700 уникальных пользователей_\n",
    "\n",
    "_2. Нет пропусков, все столбцы имеют корректные типы данных_\n",
    "\n",
    "_3. В данных нет выбросов и аномалий_\n",
    "\n",
    "_4. Наименование столбцов необходимо привести к змеиному типу_\n",
    "\n",
    "_5. Данные собраны для 5 моделей телефонов, 2 операционные системы, 2 гендера, также в датафрейме все пользователи уже сегментированы_"
   ]
  },
  {
   "cell_type": "markdown",
   "id": "81f136a1",
   "metadata": {},
   "source": [
    "## Предобработка данных"
   ]
  },
  {
   "cell_type": "code",
   "execution_count": 9,
   "id": "639ef813",
   "metadata": {},
   "outputs": [
    {
     "data": {
      "text/html": [
       "<div>\n",
       "<style scoped>\n",
       "    .dataframe tbody tr th:only-of-type {\n",
       "        vertical-align: middle;\n",
       "    }\n",
       "\n",
       "    .dataframe tbody tr th {\n",
       "        vertical-align: top;\n",
       "    }\n",
       "\n",
       "    .dataframe thead th {\n",
       "        text-align: right;\n",
       "    }\n",
       "</style>\n",
       "<table border=\"1\" class=\"dataframe\">\n",
       "  <thead>\n",
       "    <tr style=\"text-align: right;\">\n",
       "      <th></th>\n",
       "      <th>user_id</th>\n",
       "      <th>device_model</th>\n",
       "      <th>operating_system</th>\n",
       "      <th>app_usage_time_(min/day)</th>\n",
       "      <th>screen_on_time_(hours/day)</th>\n",
       "      <th>battery_drain_(mah/day)</th>\n",
       "      <th>number_of_apps_installed</th>\n",
       "      <th>data_usage_(mb/day)</th>\n",
       "      <th>age</th>\n",
       "      <th>gender</th>\n",
       "      <th>user_behavior_class</th>\n",
       "    </tr>\n",
       "  </thead>\n",
       "  <tbody>\n",
       "    <tr>\n",
       "      <th>0</th>\n",
       "      <td>1</td>\n",
       "      <td>Google Pixel 5</td>\n",
       "      <td>Android</td>\n",
       "      <td>393</td>\n",
       "      <td>6.40</td>\n",
       "      <td>1872</td>\n",
       "      <td>67</td>\n",
       "      <td>1122</td>\n",
       "      <td>40</td>\n",
       "      <td>Male</td>\n",
       "      <td>4</td>\n",
       "    </tr>\n",
       "    <tr>\n",
       "      <th>1</th>\n",
       "      <td>2</td>\n",
       "      <td>OnePlus 9</td>\n",
       "      <td>Android</td>\n",
       "      <td>268</td>\n",
       "      <td>4.70</td>\n",
       "      <td>1331</td>\n",
       "      <td>42</td>\n",
       "      <td>944</td>\n",
       "      <td>47</td>\n",
       "      <td>Female</td>\n",
       "      <td>3</td>\n",
       "    </tr>\n",
       "    <tr>\n",
       "      <th>2</th>\n",
       "      <td>3</td>\n",
       "      <td>Xiaomi Mi 11</td>\n",
       "      <td>Android</td>\n",
       "      <td>154</td>\n",
       "      <td>4.00</td>\n",
       "      <td>761</td>\n",
       "      <td>32</td>\n",
       "      <td>322</td>\n",
       "      <td>42</td>\n",
       "      <td>Male</td>\n",
       "      <td>2</td>\n",
       "    </tr>\n",
       "    <tr>\n",
       "      <th>3</th>\n",
       "      <td>4</td>\n",
       "      <td>Google Pixel 5</td>\n",
       "      <td>Android</td>\n",
       "      <td>239</td>\n",
       "      <td>4.80</td>\n",
       "      <td>1676</td>\n",
       "      <td>56</td>\n",
       "      <td>871</td>\n",
       "      <td>20</td>\n",
       "      <td>Male</td>\n",
       "      <td>3</td>\n",
       "    </tr>\n",
       "    <tr>\n",
       "      <th>4</th>\n",
       "      <td>5</td>\n",
       "      <td>iPhone 12</td>\n",
       "      <td>iOS</td>\n",
       "      <td>187</td>\n",
       "      <td>4.30</td>\n",
       "      <td>1367</td>\n",
       "      <td>58</td>\n",
       "      <td>988</td>\n",
       "      <td>31</td>\n",
       "      <td>Female</td>\n",
       "      <td>3</td>\n",
       "    </tr>\n",
       "  </tbody>\n",
       "</table>\n",
       "</div>"
      ],
      "text/plain": [
       "   user_id    device_model operating_system  app_usage_time_(min/day)  \\\n",
       "0        1  Google Pixel 5          Android                       393   \n",
       "1        2       OnePlus 9          Android                       268   \n",
       "2        3    Xiaomi Mi 11          Android                       154   \n",
       "3        4  Google Pixel 5          Android                       239   \n",
       "4        5       iPhone 12              iOS                       187   \n",
       "\n",
       "   screen_on_time_(hours/day)  battery_drain_(mah/day)  \\\n",
       "0                        6.40                     1872   \n",
       "1                        4.70                     1331   \n",
       "2                        4.00                      761   \n",
       "3                        4.80                     1676   \n",
       "4                        4.30                     1367   \n",
       "\n",
       "   number_of_apps_installed  data_usage_(mb/day)  age  gender  \\\n",
       "0                        67                 1122   40    Male   \n",
       "1                        42                  944   47  Female   \n",
       "2                        32                  322   42    Male   \n",
       "3                        56                  871   20    Male   \n",
       "4                        58                  988   31  Female   \n",
       "\n",
       "   user_behavior_class  \n",
       "0                    4  \n",
       "1                    3  \n",
       "2                    2  \n",
       "3                    3  \n",
       "4                    3  "
      ]
     },
     "execution_count": 9,
     "metadata": {},
     "output_type": "execute_result"
    }
   ],
   "source": [
    "#приведём наименование столбцов к \"змеиному\" типу\n",
    "df.columns = df.columns.str.lower()\n",
    "df = df.rename(columns=lambda x: x.replace(' ', '_'))\n",
    "df.head()"
   ]
  },
  {
   "cell_type": "markdown",
   "id": "71a89a0c",
   "metadata": {},
   "source": [
    "\n",
    "## Исследовательский анализ данных"
   ]
  },
  {
   "cell_type": "code",
   "execution_count": 10,
   "id": "39ab5091",
   "metadata": {},
   "outputs": [
    {
     "data": {
      "image/png": "[encoded data removed]",
      "text/plain": [
       "<Figure size 1200x1000 with 9 Axes>"
      ]
     },
     "metadata": {},
     "output_type": "display_data"
    }
   ],
   "source": [
    "#посмотрим на распределение количественных данных\n",
    "df.hist(bins=10, figsize=(12, 10))\n",
    "plt.show()"
   ]
  },
  {
   "cell_type": "markdown",
   "id": "a0e36176",
   "metadata": {},
   "source": [
    "_Из гистограмм видно, что практически одинаково распределены данные в столбцах `user_behavior_class`, `age`. В остальных столбцах пользователи чаще всего: `app_usage_time_(min/day)` проводят в приложениях до 100 минут/в день, `screen_on_time_(hours/day)` - до 2х часов в день активный экран, `battery_drain_(mah/day)` до 500 мАп/день тратят заряд батареи, `number_of_apps_installed` до 20 приложений установлено, `data_usage_(mb/day)` используют до 250 МБ в день интернет трафика._"
   ]
  },
  {
   "cell_type": "code",
   "execution_count": 11,
   "id": "688e2d4d",
   "metadata": {},
   "outputs": [
    {
     "data": {
      "text/plain": [
       "Male      364\n",
       "Female    336\n",
       "Name: gender, dtype: int64"
      ]
     },
     "execution_count": 11,
     "metadata": {},
     "output_type": "execute_result"
    }
   ],
   "source": [
    "#посмотрим на распределение по гендеру\n",
    "gender = df['gender'].value_counts()\n",
    "gender"
   ]
  },
  {
   "cell_type": "code",
   "execution_count": 12,
   "id": "a0d36492",
   "metadata": {},
   "outputs": [
    {
     "data": {
      "image/png": "[encoded data removed]",
      "text/plain": [
       "<Figure size 800x500 with 1 Axes>"
      ]
     },
     "metadata": {},
     "output_type": "display_data"
    }
   ],
   "source": [
    "gender.plot(kind='pie', title='Распределение по гендеру', figsize=(8,5), autopct='%1.0f%%')\n",
    "plt.ylabel('')\n",
    "plt.show()"
   ]
  },
  {
   "cell_type": "markdown",
   "id": "4142a084",
   "metadata": {},
   "source": [
    "_Распределение практически одинаково_"
   ]
  },
  {
   "cell_type": "code",
   "execution_count": 13,
   "id": "ba21ab1d",
   "metadata": {},
   "outputs": [
    {
     "data": {
      "text/plain": [
       "Android    554\n",
       "iOS        146\n",
       "Name: operating_system, dtype: int64"
      ]
     },
     "execution_count": 13,
     "metadata": {},
     "output_type": "execute_result"
    }
   ],
   "source": [
    "#посмотрим на распределение по операционной системе\n",
    "system = df['operating_system'].value_counts()\n",
    "system"
   ]
  },
  {
   "cell_type": "code",
   "execution_count": 14,
   "id": "cbbde918",
   "metadata": {},
   "outputs": [
    {
     "data": {
      "image/png": "[encoded data removed]",
      "text/plain": [
       "<Figure size 800x500 with 1 Axes>"
      ]
     },
     "metadata": {},
     "output_type": "display_data"
    }
   ],
   "source": [
    "system.plot(kind='pie', title='Распределение по ОС', figsize=(8,5), autopct='%1.0f%%')\n",
    "plt.ylabel('')\n",
    "plt.show()"
   ]
  },
  {
   "cell_type": "markdown",
   "id": "de012002",
   "metadata": {},
   "source": [
    "_Больше всего пользователи используют гаджеты с ОС Android_"
   ]
  },
  {
   "cell_type": "code",
   "execution_count": 15,
   "id": "bfd71bdc",
   "metadata": {},
   "outputs": [
    {
     "data": {
      "text/plain": [
       "Xiaomi Mi 11          146\n",
       "iPhone 12             146\n",
       "Google Pixel 5        142\n",
       "OnePlus 9             133\n",
       "Samsung Galaxy S21    133\n",
       "Name: device_model, dtype: int64"
      ]
     },
     "execution_count": 15,
     "metadata": {},
     "output_type": "execute_result"
    }
   ],
   "source": [
    "#посмотрим на распределение по моделям\n",
    "device = df['device_model'].value_counts()\n",
    "device"
   ]
  },
  {
   "cell_type": "code",
   "execution_count": 16,
   "id": "4abe880c",
   "metadata": {},
   "outputs": [
    {
     "data": {
      "image/png": "[encoded data removed]",
      "text/plain": [
       "<Figure size 800x500 with 1 Axes>"
      ]
     },
     "metadata": {},
     "output_type": "display_data"
    }
   ],
   "source": [
    "device.plot(kind='pie', title='Распределение по моделям телефона', figsize=(8,5), autopct='%1.0f%%')\n",
    "plt.ylabel('')\n",
    "plt.show()"
   ]
  },
  {
   "cell_type": "markdown",
   "id": "0a4de12f",
   "metadata": {},
   "source": [
    "_Модели девайсов распределены в одинаковом процентом соотношении_"
   ]
  },
  {
   "cell_type": "markdown",
   "id": "d72eddd9",
   "metadata": {},
   "source": [
    "## Корреляция\n"
   ]
  },
  {
   "cell_type": "code",
   "execution_count": 17,
   "id": "0adf4912",
   "metadata": {},
   "outputs": [],
   "source": [
    "#копируем датафрейм\n",
    "df1 = df.copy()"
   ]
  },
  {
   "cell_type": "code",
   "execution_count": 18,
   "id": "cb2a8146",
   "metadata": {},
   "outputs": [],
   "source": [
    "#копируем столбцы с категориальными данными, чтобы применить к ним функция .get_dummies\n",
    "df1['gender_bin'] = df1['gender'].copy()\n",
    "df1['operating_system_bin'] = df1['operating_system'].copy()\n",
    "df1['device_model_bin'] = df1['device_model'].copy()"
   ]
  },
  {
   "cell_type": "code",
   "execution_count": 19,
   "id": "c15e11d0",
   "metadata": {},
   "outputs": [
    {
     "data": {
      "text/html": [
       "<div>\n",
       "<style scoped>\n",
       "    .dataframe tbody tr th:only-of-type {\n",
       "        vertical-align: middle;\n",
       "    }\n",
       "\n",
       "    .dataframe tbody tr th {\n",
       "        vertical-align: top;\n",
       "    }\n",
       "\n",
       "    .dataframe thead th {\n",
       "        text-align: right;\n",
       "    }\n",
       "</style>\n",
       "<table border=\"1\" class=\"dataframe\">\n",
       "  <thead>\n",
       "    <tr style=\"text-align: right;\">\n",
       "      <th></th>\n",
       "      <th>user_id</th>\n",
       "      <th>device_model</th>\n",
       "      <th>operating_system</th>\n",
       "      <th>app_usage_time_(min/day)</th>\n",
       "      <th>screen_on_time_(hours/day)</th>\n",
       "      <th>battery_drain_(mah/day)</th>\n",
       "      <th>number_of_apps_installed</th>\n",
       "      <th>data_usage_(mb/day)</th>\n",
       "      <th>age</th>\n",
       "      <th>gender</th>\n",
       "      <th>user_behavior_class</th>\n",
       "      <th>female</th>\n",
       "      <th>male</th>\n",
       "      <th>android</th>\n",
       "      <th>ios</th>\n",
       "      <th>google_pixel5</th>\n",
       "      <th>one_plus9</th>\n",
       "      <th>samsung_galaxy_s21</th>\n",
       "      <th>xiaomi_mi_11</th>\n",
       "      <th>iphone12</th>\n",
       "    </tr>\n",
       "  </thead>\n",
       "  <tbody>\n",
       "    <tr>\n",
       "      <th>0</th>\n",
       "      <td>1</td>\n",
       "      <td>Google Pixel 5</td>\n",
       "      <td>Android</td>\n",
       "      <td>393</td>\n",
       "      <td>6.40</td>\n",
       "      <td>1872</td>\n",
       "      <td>67</td>\n",
       "      <td>1122</td>\n",
       "      <td>40</td>\n",
       "      <td>Male</td>\n",
       "      <td>4</td>\n",
       "      <td>0</td>\n",
       "      <td>1</td>\n",
       "      <td>1</td>\n",
       "      <td>0</td>\n",
       "      <td>1</td>\n",
       "      <td>0</td>\n",
       "      <td>0</td>\n",
       "      <td>0</td>\n",
       "      <td>0</td>\n",
       "    </tr>\n",
       "    <tr>\n",
       "      <th>1</th>\n",
       "      <td>2</td>\n",
       "      <td>OnePlus 9</td>\n",
       "      <td>Android</td>\n",
       "      <td>268</td>\n",
       "      <td>4.70</td>\n",
       "      <td>1331</td>\n",
       "      <td>42</td>\n",
       "      <td>944</td>\n",
       "      <td>47</td>\n",
       "      <td>Female</td>\n",
       "      <td>3</td>\n",
       "      <td>1</td>\n",
       "      <td>0</td>\n",
       "      <td>1</td>\n",
       "      <td>0</td>\n",
       "      <td>0</td>\n",
       "      <td>1</td>\n",
       "      <td>0</td>\n",
       "      <td>0</td>\n",
       "      <td>0</td>\n",
       "    </tr>\n",
       "    <tr>\n",
       "      <th>2</th>\n",
       "      <td>3</td>\n",
       "      <td>Xiaomi Mi 11</td>\n",
       "      <td>Android</td>\n",
       "      <td>154</td>\n",
       "      <td>4.00</td>\n",
       "      <td>761</td>\n",
       "      <td>32</td>\n",
       "      <td>322</td>\n",
       "      <td>42</td>\n",
       "      <td>Male</td>\n",
       "      <td>2</td>\n",
       "      <td>0</td>\n",
       "      <td>1</td>\n",
       "      <td>1</td>\n",
       "      <td>0</td>\n",
       "      <td>0</td>\n",
       "      <td>0</td>\n",
       "      <td>0</td>\n",
       "      <td>1</td>\n",
       "      <td>0</td>\n",
       "    </tr>\n",
       "    <tr>\n",
       "      <th>3</th>\n",
       "      <td>4</td>\n",
       "      <td>Google Pixel 5</td>\n",
       "      <td>Android</td>\n",
       "      <td>239</td>\n",
       "      <td>4.80</td>\n",
       "      <td>1676</td>\n",
       "      <td>56</td>\n",
       "      <td>871</td>\n",
       "      <td>20</td>\n",
       "      <td>Male</td>\n",
       "      <td>3</td>\n",
       "      <td>0</td>\n",
       "      <td>1</td>\n",
       "      <td>1</td>\n",
       "      <td>0</td>\n",
       "      <td>1</td>\n",
       "      <td>0</td>\n",
       "      <td>0</td>\n",
       "      <td>0</td>\n",
       "      <td>0</td>\n",
       "    </tr>\n",
       "    <tr>\n",
       "      <th>4</th>\n",
       "      <td>5</td>\n",
       "      <td>iPhone 12</td>\n",
       "      <td>iOS</td>\n",
       "      <td>187</td>\n",
       "      <td>4.30</td>\n",
       "      <td>1367</td>\n",
       "      <td>58</td>\n",
       "      <td>988</td>\n",
       "      <td>31</td>\n",
       "      <td>Female</td>\n",
       "      <td>3</td>\n",
       "      <td>1</td>\n",
       "      <td>0</td>\n",
       "      <td>0</td>\n",
       "      <td>1</td>\n",
       "      <td>0</td>\n",
       "      <td>0</td>\n",
       "      <td>0</td>\n",
       "      <td>0</td>\n",
       "      <td>1</td>\n",
       "    </tr>\n",
       "  </tbody>\n",
       "</table>\n",
       "</div>"
      ],
      "text/plain": [
       "   user_id    device_model operating_system  app_usage_time_(min/day)  \\\n",
       "0        1  Google Pixel 5          Android                       393   \n",
       "1        2       OnePlus 9          Android                       268   \n",
       "2        3    Xiaomi Mi 11          Android                       154   \n",
       "3        4  Google Pixel 5          Android                       239   \n",
       "4        5       iPhone 12              iOS                       187   \n",
       "\n",
       "   screen_on_time_(hours/day)  battery_drain_(mah/day)  \\\n",
       "0                        6.40                     1872   \n",
       "1                        4.70                     1331   \n",
       "2                        4.00                      761   \n",
       "3                        4.80                     1676   \n",
       "4                        4.30                     1367   \n",
       "\n",
       "   number_of_apps_installed  data_usage_(mb/day)  age  gender  \\\n",
       "0                        67                 1122   40    Male   \n",
       "1                        42                  944   47  Female   \n",
       "2                        32                  322   42    Male   \n",
       "3                        56                  871   20    Male   \n",
       "4                        58                  988   31  Female   \n",
       "\n",
       "   user_behavior_class  female  male  android  ios  google_pixel5  one_plus9  \\\n",
       "0                    4       0     1        1    0              1          0   \n",
       "1                    3       1     0        1    0              0          1   \n",
       "2                    2       0     1        1    0              0          0   \n",
       "3                    3       0     1        1    0              1          0   \n",
       "4                    3       1     0        0    1              0          0   \n",
       "\n",
       "   samsung_galaxy_s21  xiaomi_mi_11  iphone12  \n",
       "0                   0             0         0  \n",
       "1                   0             0         0  \n",
       "2                   0             1         0  \n",
       "3                   0             0         0  \n",
       "4                   0             0         1  "
      ]
     },
     "execution_count": 19,
     "metadata": {},
     "output_type": "execute_result"
    }
   ],
   "source": [
    "#применяем функцию к датафрейму\n",
    "df1 = pd.get_dummies(df1, columns=['gender_bin', 'operating_system_bin', 'device_model_bin'])\n",
    "\n",
    "#переименовуем столбцы\n",
    "df1 = df1.rename(columns = ({'gender_bin_Female':'female', 'gender_bin_Male':'male',\n",
    "                             'operating_system_bin_Android':'android', 'operating_system_bin_iOS':'ios',\n",
    "                             'device_model_bin_Google Pixel 5':'google_pixel5',\n",
    "                            'device_model_bin_OnePlus 9':'one_plus9',\n",
    "                            'device_model_bin_Samsung Galaxy S21' : 'samsung_galaxy_s21',\n",
    "                            'device_model_bin_Xiaomi Mi 11' : 'xiaomi_mi_11',\n",
    "                            'device_model_bin_iPhone 12' : 'iphone12'}))\n",
    "#проверим вывод таблицы\n",
    "df1.head()"
   ]
  },
  {
   "cell_type": "code",
   "execution_count": 20,
   "id": "730c74e3",
   "metadata": {},
   "outputs": [
    {
     "data": {
      "text/plain": [
       "samsung_galaxy_s21            0.00\n",
       "age                           0.00\n",
       "one_plus9                    -0.01\n",
       "xiaomi_mi_11                 -0.01\n",
       "google_pixel5                -0.01\n",
       "female                       -0.02\n",
       "male                          0.02\n",
       "user_id                      -0.02\n",
       "ios                           0.04\n",
       "iphone12                      0.04\n",
       "android                      -0.04\n",
       "data_usage_(mb/day)           0.93\n",
       "screen_on_time_(hours/day)    0.95\n",
       "app_usage_time_(min/day)      0.96\n",
       "battery_drain_(mah/day)       0.96\n",
       "user_behavior_class           0.98\n",
       "number_of_apps_installed      1.00\n",
       "dtype: float64"
      ]
     },
     "execution_count": 20,
     "metadata": {},
     "output_type": "execute_result"
    }
   ],
   "source": [
    "#считаем корреляцию к столбцу \"number_of_apps_installed\"\n",
    "\n",
    "df1.corrwith(df1['number_of_apps_installed']).sort_values(key=abs)"
   ]
  },
  {
   "cell_type": "markdown",
   "id": "48ea98bf",
   "metadata": {},
   "source": [
    "**Из полученной таблицы, мы можем сделать вывод, что нет зависимости между количеством установленных приложением и гендером, возрастом пользователя, а также моделью телефона и ОС которой он пользуется. Мы видим корреляцию более 90% с такими данными как: класс пользователя, исспользование зарада батареи, интернет трафика, активности экрана и время проведения в приложении.**"
   ]
  },
  {
   "cell_type": "code",
   "execution_count": 21,
   "id": "523ff7c5",
   "metadata": {},
   "outputs": [
    {
     "data": {
      "text/html": [
       "<div>\n",
       "<style scoped>\n",
       "    .dataframe tbody tr th:only-of-type {\n",
       "        vertical-align: middle;\n",
       "    }\n",
       "\n",
       "    .dataframe tbody tr th {\n",
       "        vertical-align: top;\n",
       "    }\n",
       "\n",
       "    .dataframe thead th {\n",
       "        text-align: right;\n",
       "    }\n",
       "</style>\n",
       "<table border=\"1\" class=\"dataframe\">\n",
       "  <thead>\n",
       "    <tr style=\"text-align: right;\">\n",
       "      <th></th>\n",
       "      <th>user_behavior_class</th>\n",
       "      <th>app_usage_time_(min/day)</th>\n",
       "      <th>screen_on_time_(hours/day)</th>\n",
       "      <th>battery_drain_(mah/day)</th>\n",
       "      <th>number_of_apps_installed</th>\n",
       "      <th>data_usage_(mb/day)</th>\n",
       "    </tr>\n",
       "  </thead>\n",
       "  <tbody>\n",
       "    <tr>\n",
       "      <th>0</th>\n",
       "      <td>1</td>\n",
       "      <td>60.43</td>\n",
       "      <td>1.49</td>\n",
       "      <td>454.98</td>\n",
       "      <td>14.56</td>\n",
       "      <td>202.32</td>\n",
       "    </tr>\n",
       "    <tr>\n",
       "      <th>1</th>\n",
       "      <td>2</td>\n",
       "      <td>131.97</td>\n",
       "      <td>3.04</td>\n",
       "      <td>883.81</td>\n",
       "      <td>30.75</td>\n",
       "      <td>451.42</td>\n",
       "    </tr>\n",
       "    <tr>\n",
       "      <th>2</th>\n",
       "      <td>3</td>\n",
       "      <td>235.40</td>\n",
       "      <td>4.96</td>\n",
       "      <td>1,515.06</td>\n",
       "      <td>50.00</td>\n",
       "      <td>822.01</td>\n",
       "    </tr>\n",
       "    <tr>\n",
       "      <th>3</th>\n",
       "      <td>4</td>\n",
       "      <td>395.75</td>\n",
       "      <td>6.91</td>\n",
       "      <td>2,105.81</td>\n",
       "      <td>69.92</td>\n",
       "      <td>1,232.23</td>\n",
       "    </tr>\n",
       "    <tr>\n",
       "      <th>4</th>\n",
       "      <td>5</td>\n",
       "      <td>541.42</td>\n",
       "      <td>10.11</td>\n",
       "      <td>2,701.01</td>\n",
       "      <td>89.25</td>\n",
       "      <td>1,974.77</td>\n",
       "    </tr>\n",
       "  </tbody>\n",
       "</table>\n",
       "</div>"
      ],
      "text/plain": [
       "   user_behavior_class  app_usage_time_(min/day)  screen_on_time_(hours/day)  \\\n",
       "0                    1                     60.43                        1.49   \n",
       "1                    2                    131.97                        3.04   \n",
       "2                    3                    235.40                        4.96   \n",
       "3                    4                    395.75                        6.91   \n",
       "4                    5                    541.42                       10.11   \n",
       "\n",
       "   battery_drain_(mah/day)  number_of_apps_installed  data_usage_(mb/day)  \n",
       "0                   454.98                     14.56               202.32  \n",
       "1                   883.81                     30.75               451.42  \n",
       "2                 1,515.06                     50.00               822.01  \n",
       "3                 2,105.81                     69.92             1,232.23  \n",
       "4                 2,701.01                     89.25             1,974.77  "
      ]
     },
     "execution_count": 21,
     "metadata": {},
     "output_type": "execute_result"
    }
   ],
   "source": [
    "#сгруппируем данные по классу пользователя и получим общую информацию для каждого класса\n",
    "\n",
    "grouped = (df1\n",
    "           .groupby('user_behavior_class')\n",
    "           .agg({'app_usage_time_(min/day)' : 'mean',\n",
    "                 'screen_on_time_(hours/day)' : 'mean',\n",
    "                 'battery_drain_(mah/day)' : 'mean',\n",
    "                 'number_of_apps_installed' : 'mean',\n",
    "                 'data_usage_(mb/day)' : 'mean'}\n",
    "                 )\n",
    "           .reset_index()\n",
    "          )\n",
    "grouped"
   ]
  },
  {
   "cell_type": "markdown",
   "id": "9cbe3352",
   "metadata": {},
   "source": [
    "**Из полученной таблицы мы видим, чем больше пользователь устанавливает приложений, тем больше тратит интернет трафика, времени активности, заряда батареи, что является логичным.** "
   ]
  },
  {
   "cell_type": "markdown",
   "id": "aa41164d",
   "metadata": {},
   "source": [
    "## Проверка гипотезы"
   ]
  },
  {
   "cell_type": "markdown",
   "id": "3c59e6c3",
   "metadata": {},
   "source": [
    "**Гипотеза №1**\n",
    "\n",
    "**H_0**: женщины и мужчины устанавливают одинаковое количество приложений;\n",
    "\n",
    "**H_1**: женщины устанавливают приложений больше."
   ]
  },
  {
   "cell_type": "markdown",
   "id": "e8111fe1",
   "metadata": {},
   "source": [
    "Для проверки гипотезы мы можем использовать t-test, который должен соответствовать условиям: \n",
    "\n",
    "1. Генеральные совокупности не зависят друг от друга.\n",
    "2. Выборочные средние нормально распределены.\n",
    "3. Дисперсии рассматриваемых генеральных совокупностей равны."
   ]
  },
  {
   "cell_type": "code",
   "execution_count": 24,
   "id": "a10729c8",
   "metadata": {},
   "outputs": [],
   "source": [
    "#создадим две выборки\n",
    "male = df1.query('gender == \"Male\"')['number_of_apps_installed']\n",
    "female = df1.query('gender == \"Female\"')['number_of_apps_installed']"
   ]
  },
  {
   "cell_type": "code",
   "execution_count": 25,
   "id": "dcab341f",
   "metadata": {},
   "outputs": [
    {
     "name": "stdout",
     "output_type": "stream",
     "text": [
      "p-значение:  1.8415371658142554e-11\n",
      "Распределение не нормально\n"
     ]
    }
   ],
   "source": [
    "#проверяем соотвествие данных на нормальное распределение для выборки Male\n",
    "\n",
    "alpha = 0.01 #критический уровень статистической значимости  \n",
    "\n",
    "shapiro_test_stat, p_value = st.shapiro(male)\n",
    "\n",
    "print('p-значение: ', p_value)\n",
    "if p_value < alpha:\n",
    "    print('Распределение не нормально')\n",
    "else:\n",
    "    print('Нормальное распределение')  "
   ]
  },
  {
   "cell_type": "code",
   "execution_count": 26,
   "id": "49b7d097",
   "metadata": {},
   "outputs": [
    {
     "name": "stdout",
     "output_type": "stream",
     "text": [
      "p-значение:  1.7486535552890814e-09\n",
      "Распределение не нормально\n"
     ]
    }
   ],
   "source": [
    "#проверяем соотвествие данных на нормальное распределение Female\n",
    "\n",
    "alpha = 0.01 #критический уровень статистической значимости  \n",
    "\n",
    "shapiro_test_stat, p_value = st.shapiro(female)\n",
    "\n",
    "print('p-значение: ', p_value)\n",
    "if p_value < alpha:\n",
    "    print('Распределение не нормально')\n",
    "else:\n",
    "    print('Нормальное распределение')  "
   ]
  },
  {
   "cell_type": "code",
   "execution_count": 27,
   "id": "607ea29e",
   "metadata": {},
   "outputs": [
    {
     "name": "stdout",
     "output_type": "stream",
     "text": [
      "756.0419807465261\n",
      "695.0949538024166\n"
     ]
    }
   ],
   "source": [
    "#проверим дисперсии выборок\n",
    "\n",
    "print(df1.query('gender == \"Male\"')['number_of_apps_installed'].var())\n",
    "print(df1.query('gender == \"Female\"')['number_of_apps_installed'].var())"
   ]
  },
  {
   "cell_type": "markdown",
   "id": "69225f1e",
   "metadata": {},
   "source": [
    "_Так как данные распределены ненормально и дисперсии не равны, будем использовать непараметрический тест Манна-Уитни (U-тест)_"
   ]
  },
  {
   "cell_type": "code",
   "execution_count": 30,
   "id": "f481de4f",
   "metadata": {},
   "outputs": [
    {
     "name": "stdout",
     "output_type": "stream",
     "text": [
      "Статистика U: 60112.5\n",
      "p-значение: 0.6514079811101748\n",
      "Не отвергаем нулевую гипотезу. Нет достаточных доказательств для утверждения, что женщины устанавливают больше приложений.\n"
     ]
    }
   ],
   "source": [
    "# Проводим тест Манна-Уитни:\n",
    "u_statistic, p_value = st.mannwhitneyu(female, male, alternative='greater')\n",
    "\n",
    "# Выводим результат:\n",
    "print(f\"Статистика U: {u_statistic}\")\n",
    "print(f\"p-значение: {p_value}\")\n",
    "\n",
    "# Оценка уровня значимости (α = 0.05)\n",
    "alpha = 0.05\n",
    "if p_value < alpha:\n",
    "    print(\"Отвергаем нулевую гипотезу. Есть доказательства, что женщины устанавливают больше приложений.\")\n",
    "else:\n",
    "    print(\"Не отвергаем нулевую гипотезу. Нет достаточных доказательств для утверждения, что женщины устанавливают больше приложений.\")"
   ]
  },
  {
   "cell_type": "markdown",
   "id": "982c1127",
   "metadata": {},
   "source": [
    "**Гипотеза №2**\n",
    "\n",
    "**H_0**: активность экрана за день у мужчин и женщин одинакова;\n",
    "\n",
    "**H_1**: активность экрана за день у женщин больше чем у мужчин."
   ]
  },
  {
   "cell_type": "code",
   "execution_count": 32,
   "id": "72546ad3",
   "metadata": {},
   "outputs": [],
   "source": [
    "#создадим две выборки\n",
    "male1 = df1.query('gender == \"Male\"')['screen_on_time_(hours/day)']\n",
    "female1 = df1.query('gender == \"Female\"')['screen_on_time_(hours/day)']"
   ]
  },
  {
   "cell_type": "code",
   "execution_count": 33,
   "id": "44b7431b",
   "metadata": {},
   "outputs": [
    {
     "name": "stdout",
     "output_type": "stream",
     "text": [
      "p-значение:  1.2306928046101895e-11\n",
      "Распределение не нормально\n"
     ]
    }
   ],
   "source": [
    "#проверяем соотвествие данных на нормальное распределение для выборки Male\n",
    "\n",
    "alpha = 0.01 #критический уровень статистической значимости  \n",
    "\n",
    "shapiro_test_stat, p_value = st.shapiro(male1)\n",
    "\n",
    "print('p-значение: ', p_value)\n",
    "if p_value < alpha:\n",
    "    print('Распределение не нормально')\n",
    "else:\n",
    "    print('Нормальное распределение')  "
   ]
  },
  {
   "cell_type": "code",
   "execution_count": 34,
   "id": "6909c38d",
   "metadata": {},
   "outputs": [
    {
     "name": "stdout",
     "output_type": "stream",
     "text": [
      "p-значение:  1.3595036207902922e-09\n",
      "Распределение не нормально\n"
     ]
    }
   ],
   "source": [
    "#проверяем соотвествие данных на нормальное распределение Female\n",
    "\n",
    "alpha = 0.01 #критический уровень статистической значимости  \n",
    "\n",
    "shapiro_test_stat, p_value = st.shapiro(female1)\n",
    "\n",
    "print('p-значение: ', p_value)\n",
    "if p_value < alpha:\n",
    "    print('Распределение не нормально')\n",
    "else:\n",
    "    print('Нормальное распределение')  "
   ]
  },
  {
   "cell_type": "code",
   "execution_count": 35,
   "id": "a32f9035",
   "metadata": {},
   "outputs": [
    {
     "name": "stdout",
     "output_type": "stream",
     "text": [
      "9.935393318802408\n",
      "8.881483653162759\n"
     ]
    }
   ],
   "source": [
    "#проверим дисперсии выборок\n",
    "\n",
    "print(df1.query('gender == \"Male\"')['screen_on_time_(hours/day)'].var())\n",
    "print(df1.query('gender == \"Female\"')['screen_on_time_(hours/day)'].var())"
   ]
  },
  {
   "cell_type": "markdown",
   "id": "04d1047b",
   "metadata": {},
   "source": [
    "_В данном случае также данные распределены ненормально и дисперсии не равны, будем использовать непараметрический тест Манна-Уитни (U-тест)_"
   ]
  },
  {
   "cell_type": "code",
   "execution_count": 36,
   "id": "6bb73b06",
   "metadata": {},
   "outputs": [
    {
     "name": "stdout",
     "output_type": "stream",
     "text": [
      "Статистика U: 61430.0\n",
      "p-значение: 0.45865271591349627\n",
      "Не отвергаем нулевую гипотезу. Нет достаточных доказательств для утверждения, что у женщин экран более активный.\n"
     ]
    }
   ],
   "source": [
    "# Проводим тест Манна-Уитни:\n",
    "u_statistic, p_value = st.mannwhitneyu(female1, male1, alternative='greater')\n",
    "\n",
    "# Выводим результат:\n",
    "print(f\"Статистика U: {u_statistic}\")\n",
    "print(f\"p-значение: {p_value}\")\n",
    "\n",
    "# Оценка уровня значимости (α = 0.05)\n",
    "alpha = 0.05\n",
    "if p_value < alpha:\n",
    "    print(\"Отвергаем нулевую гипотезу. Есть доказательства, что у женщин экран более активный.\")\n",
    "else:\n",
    "    print(\"Не отвергаем нулевую гипотезу. Нет достаточных доказательств для утверждения, что у женщин экран более активный.\")"
   ]
  },
  {
   "cell_type": "markdown",
   "id": "cbcee60a",
   "metadata": {},
   "source": [
    "**По результатам тестов, мы не принемаем альтернативные гипотезы. Нет достаточных доказательств, что женщины устанавливают больше приложений, и что у них экран более активный**"
   ]
  },
  {
   "cell_type": "code",
   "execution_count": null,
   "id": "0c05b29b",
   "metadata": {},
   "outputs": [],
   "source": []
  }
 ],
 "metadata": {
  "kernelspec": {
   "display_name": "Python 3 (ipykernel)",
   "language": "python",
   "name": "python3"
  },
  "language_info": {
   "codemirror_mode": {
    "name": "ipython",
    "version": 3
   },
   "file_extension": ".py",
   "mimetype": "text/x-python",
   "name": "python",
   "nbconvert_exporter": "python",
   "pygments_lexer": "ipython3",
   "version": "3.11.4"
  },
  "toc": {
   "base_numbering": 1,
   "nav_menu": {},
   "number_sections": true,
   "sideBar": true,
   "skip_h1_title": false,
   "title_cell": "Table of Contents",
   "title_sidebar": "Contents",
   "toc_cell": false,
   "toc_position": {
    "height": "calc(100% - 180px)",
    "left": "10px",
    "top": "150px",
    "width": "288.764px"
   },
   "toc_section_display": true,
   "toc_window_display": true
  }
 },
 "nbformat": 4,
 "nbformat_minor": 5
}
